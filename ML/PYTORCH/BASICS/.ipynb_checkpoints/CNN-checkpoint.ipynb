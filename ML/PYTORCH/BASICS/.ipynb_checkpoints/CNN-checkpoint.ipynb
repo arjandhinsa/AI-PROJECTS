{
 "cells": [
  {
   "cell_type": "code",
   "execution_count": 1,
   "id": "d7ed7310",
   "metadata": {},
   "outputs": [],
   "source": [
    "import torch\n",
    "import torch.nn as nn\n",
    "import torch.nn.functional as F\n",
    "import torchvision\n",
    "import torchvision.transforms as transforms\n",
    "import matplotlib.pyplot as plt\n",
    "import numpy as np"
   ]
  },
  {
   "cell_type": "markdown",
   "id": "3ed27c93",
   "metadata": {},
   "source": [
    "<img src=\"CNN.jpeg\" width=600 height=600 />"
   ]
  },
  {
   "cell_type": "code",
   "execution_count": 2,
   "id": "283f0dd1",
   "metadata": {},
   "outputs": [],
   "source": [
    "# Device configuration\n",
    "device = torch.device('cuda' if torch.cuda.is_available() else 'cpu')"
   ]
  },
  {
   "cell_type": "code",
   "execution_count": 3,
   "id": "bc1cdf27",
   "metadata": {},
   "outputs": [],
   "source": [
    "# Hyper-parameters \n",
    "num_epochs = 5\n",
    "batch_size = 4\n",
    "learning_rate = 0.001"
   ]
  },
  {
   "cell_type": "code",
   "execution_count": 4,
   "id": "953531db",
   "metadata": {},
   "outputs": [
    {
     "name": "stdout",
     "output_type": "stream",
     "text": [
      "Files already downloaded and verified\n",
      "Files already downloaded and verified\n"
     ]
    }
   ],
   "source": [
    "#dataset has PILImage images of range [0, 1]\n",
    "#we transform them to Tensors od normalised range [-1, 1]\n",
    "transform = transforms.Compose(\n",
    "    [transforms.ToTensor(), \n",
    "    transforms.Normalize((0.5, 0.5, 0.5), (0.5, 0.5, 0.5))])\n",
    "\n",
    "\n",
    "train_dataset = torchvision.datasets.CIFAR10(root='./data', train=True,\n",
    "                                             download=True, transform=transform)\n",
    "\n",
    "test_dataset = torchvision.datasets.CIFAR10(root='./data', train=False,\n",
    "                                             download=True, transform=transform)\n",
    "\n",
    "train_loader = torch.utils.data.DataLoader(train_dataset, batch_size=batch_size,\n",
    "                                             shuffle=True)\n",
    "\n",
    "test_loader = torch.utils.data.DataLoader(test_dataset, batch_size=batch_size,\n",
    "                                             shuffle=False)\n",
    "\n",
    "\n",
    "classes = ('plane', 'car', 'bird', 'cat', 'deer', 'dog', 'frog', 'horse', 'ship', 'truck')"
   ]
  },
  {
   "cell_type": "code",
   "execution_count": 5,
   "id": "dca6a36d",
   "metadata": {},
   "outputs": [],
   "source": [
    "#implement conv net\n",
    "class ConvNet(nn.Module):\n",
    "    def __init__(self):\n",
    "        super(ConvNet, self).__init__()\n",
    "        self.conv1 = nn.Conv2d(3, 6, 5)\n",
    "        self.pool = nn.MaxPool2d(2, 2)\n",
    "        self.conv2 = nn.Conv2d(6, 16, 5)\n",
    "        self.fc1 = nn.Linear(16 * 5 * 5, 120)\n",
    "        self.fc2 = nn.Linear(120, 84)\n",
    "        self.fc3 = nn.Linear(84, 10)\n",
    "\n",
    "    def forward(self, x):\n",
    "        # -> n, 3, 32, 32\n",
    "        x = self.pool(F.relu(self.conv1(x)))  # -> n, 6, 14, 14\n",
    "        x = self.pool(F.relu(self.conv2(x)))  # -> n, 16, 5, 5\n",
    "        x = x.view(-1, 16 * 5 * 5)            # -> n, 400\n",
    "        x = F.relu(self.fc1(x))               # -> n, 120\n",
    "        x = F.relu(self.fc2(x))               # -> n, 84\n",
    "        x = self.fc3(x)                       # -> n, 10\n",
    "        return x"
   ]
  },
  {
   "cell_type": "code",
   "execution_count": 6,
   "id": "180c85a4",
   "metadata": {},
   "outputs": [],
   "source": [
    "#loss and optimizer\n",
    "model = ConvNet().to(device)\n",
    "\n",
    "criterion = nn.CrossEntropyLoss()\n",
    "optimizer = torch.optim.SGD(model.parameters(), lr=learning_rate)"
   ]
  },
  {
   "cell_type": "code",
   "execution_count": 7,
   "id": "accf9107",
   "metadata": {},
   "outputs": [
    {
     "name": "stdout",
     "output_type": "stream",
     "text": [
      "Epoch [1/5], Step [2000/12500], Loss: 2.3143\n",
      "Epoch [1/5], Step [4000/12500], Loss: 2.2695\n",
      "Epoch [1/5], Step [6000/12500], Loss: 2.2965\n",
      "Epoch [1/5], Step [8000/12500], Loss: 2.2913\n",
      "Epoch [1/5], Step [10000/12500], Loss: 2.2616\n",
      "Epoch [1/5], Step [12000/12500], Loss: 2.3239\n",
      "Epoch [2/5], Step [2000/12500], Loss: 2.1821\n",
      "Epoch [2/5], Step [4000/12500], Loss: 1.9384\n",
      "Epoch [2/5], Step [6000/12500], Loss: 2.1050\n",
      "Epoch [2/5], Step [8000/12500], Loss: 2.3301\n",
      "Epoch [2/5], Step [10000/12500], Loss: 1.8866\n",
      "Epoch [2/5], Step [12000/12500], Loss: 2.0290\n",
      "Epoch [3/5], Step [2000/12500], Loss: 1.1342\n",
      "Epoch [3/5], Step [4000/12500], Loss: 1.1940\n",
      "Epoch [3/5], Step [6000/12500], Loss: 1.7051\n",
      "Epoch [3/5], Step [8000/12500], Loss: 1.7827\n",
      "Epoch [3/5], Step [10000/12500], Loss: 2.0902\n",
      "Epoch [3/5], Step [12000/12500], Loss: 1.0950\n",
      "Epoch [4/5], Step [2000/12500], Loss: 1.3925\n",
      "Epoch [4/5], Step [4000/12500], Loss: 1.2161\n",
      "Epoch [4/5], Step [6000/12500], Loss: 2.4988\n",
      "Epoch [4/5], Step [8000/12500], Loss: 2.2571\n",
      "Epoch [4/5], Step [10000/12500], Loss: 1.4941\n",
      "Epoch [4/5], Step [12000/12500], Loss: 0.9373\n",
      "Epoch [5/5], Step [2000/12500], Loss: 1.2982\n",
      "Epoch [5/5], Step [4000/12500], Loss: 1.7075\n",
      "Epoch [5/5], Step [6000/12500], Loss: 1.0654\n",
      "Epoch [5/5], Step [8000/12500], Loss: 1.4104\n",
      "Epoch [5/5], Step [10000/12500], Loss: 0.6271\n",
      "Epoch [5/5], Step [12000/12500], Loss: 2.1652\n"
     ]
    }
   ],
   "source": [
    "#training\n",
    "n_total_steps = len(train_loader)\n",
    "for epoch in range(num_epochs):\n",
    "    for i, (images, labels) in enumerate(train_loader):\n",
    "        # origin shape: [4, 3, 32, 32] = 4, 3, 1024\n",
    "        # input_layer: 3 input channels, 6 output channels, 5 kernel size\n",
    "        images = images.to(device)\n",
    "        labels = labels.to(device)\n",
    "\n",
    "        # Forward pass\n",
    "        outputs = model(images)\n",
    "        loss = criterion(outputs, labels)\n",
    "\n",
    "        # Backward and optimize\n",
    "        optimizer.zero_grad()\n",
    "        loss.backward()\n",
    "        optimizer.step()\n",
    "\n",
    "        if (i+1) % 2000 == 0:\n",
    "            print (f'Epoch [{epoch+1}/{num_epochs}], Step [{i+1}/{n_total_steps}], Loss: {loss.item():.4f}')"
   ]
  },
  {
   "cell_type": "code",
   "execution_count": 8,
   "id": "191980a0",
   "metadata": {},
   "outputs": [
    {
     "name": "stdout",
     "output_type": "stream",
     "text": [
      "Accuracy of the network: 48.17 %\n",
      "Accuracy of plane: 62.0 %\n",
      "Accuracy of car: 66.5 %\n",
      "Accuracy of bird: 32.6 %\n",
      "Accuracy of cat: 18.8 %\n",
      "Accuracy of deer: 25.9 %\n",
      "Accuracy of dog: 54.5 %\n",
      "Accuracy of frog: 74.1 %\n",
      "Accuracy of horse: 49.6 %\n",
      "Accuracy of ship: 40.1 %\n",
      "Accuracy of truck: 57.6 %\n"
     ]
    }
   ],
   "source": [
    "#Testing\n",
    "with torch.no_grad():\n",
    "    n_correct = 0\n",
    "    n_samples = 0\n",
    "    n_class_correct = [0 for i in range(10)]\n",
    "    n_class_samples = [0 for i in range(10)]\n",
    "    for images, labels in test_loader:\n",
    "        images = images.to(device)\n",
    "        labels = labels.to(device)\n",
    "        outputs = model(images)\n",
    "        # max returns (value ,index)\n",
    "        _, predicted = torch.max(outputs, 1)\n",
    "        n_samples += labels.size(0)\n",
    "        n_correct += (predicted == labels).sum().item()\n",
    "        \n",
    "        for i in range(batch_size):\n",
    "            label = labels[i]\n",
    "            pred = predicted[i]\n",
    "            if (label == pred):\n",
    "                n_class_correct[label] += 1\n",
    "            n_class_samples[label] += 1\n",
    "\n",
    "    acc = 100.0 * n_correct / n_samples\n",
    "    print(f'Accuracy of the network: {acc} %')\n",
    "\n",
    "    for i in range(10):\n",
    "        acc = 100.0 * n_class_correct[i] / n_class_samples[i]\n",
    "        print(f'Accuracy of {classes[i]}: {acc} %')"
   ]
  },
  {
   "cell_type": "code",
   "execution_count": null,
   "id": "71bc3833",
   "metadata": {},
   "outputs": [],
   "source": []
  }
 ],
 "metadata": {
  "kernelspec": {
   "display_name": "Python 3 (ipykernel)",
   "language": "python",
   "name": "python3"
  },
  "language_info": {
   "codemirror_mode": {
    "name": "ipython",
    "version": 3
   },
   "file_extension": ".py",
   "mimetype": "text/x-python",
   "name": "python",
   "nbconvert_exporter": "python",
   "pygments_lexer": "ipython3",
   "version": "3.10.11"
  }
 },
 "nbformat": 4,
 "nbformat_minor": 5
}
