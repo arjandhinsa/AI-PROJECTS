{
 "cells": [
  {
   "cell_type": "markdown",
   "id": "c76bd711",
   "metadata": {
    "id": "c76bd711"
   },
   "source": [
    "### Natural Language Processing\n",
    "\n",
    "Natural Language Processing (or NLP for short) is a discipline in computing that deals with the communication between natural (human) languages and computer languages. A common example of NLP is something like spellcheck or autocomplete. Essentially NLP is the field that focuses on how computers can understand and/or process natural/human languages.\n",
    "\n",
    "### Recurrent Neural Networks 1\n",
    "\n",
    "We will introduce a new kind of neural network that is much more capable of processing sequential data such as text or characters called a recurrent neural network (RNN for short).\n",
    "\n",
    "We will learn how to use a reccurent neural network to do the following:\n",
    "- Sentiment Analysis\n",
    "- Character Generation\n",
    "\n",
    "RNN's are complex and come in many different forms so in this tutorial we wil focus on how they work and the kind of problems they are best suited for."
   ]
  },
  {
   "cell_type": "markdown",
   "id": "3fa2c2c0",
   "metadata": {
    "id": "3fa2c2c0"
   },
   "source": [
    "#### Sequence Data\n",
    "\n",
    "Since textual data contains many words that follow in a very specific and meaningful order, we need to be able to keep track of each word and when it occurs in the data. Simply encoding say an entire paragraph of text into one data point wouldn't give us a very meaningful picture of the data and would be very difficult to do anything with. This is why we treat text as a sequence and process one word at a time. We will keep track of where each of these words appear and use that information to try to understand the meaning of pieces of text."
   ]
  },
  {
   "cell_type": "markdown",
   "id": "bac0d377",
   "metadata": {
    "id": "bac0d377"
   },
   "source": [
    "#### Encoding Text\n",
    "\n",
    "As we know machine learning models and neural networks don't take raw text data as an input. This means we must somehow encode our textual data to numeric values that our models can understand. There are many different ways of doing this and we will look at a few examples below.\n",
    "\n",
    "Before we get into the different encoding/preprocessing methods let's understand the information we can get from textual data by looking at the following two movie reviews.\n",
    "\n",
    "```I thought the movie was going to be bad, but it was actually amazing!```\n",
    "\n",
    "```I thought the movie was going to be amazing, but it was actually bad!```\n",
    "\n",
    "Although these two setences are very similar we know that they have very different meanings. This is because of the ordering of words, a very important property of textual data.\n",
    "\n",
    "Now keep that in mind while we consider some different ways of encoding our textual data."
   ]
  },
  {
   "cell_type": "markdown",
   "id": "4fc43819",
   "metadata": {
    "id": "4fc43819"
   },
   "source": [
    "#### Bag of Words\n",
    "The first and simplest way to encode our data is to use something called **bag of words**. This is a pretty easy technique where each word in a sentence is encoded with an integer and thrown into a collection that does not maintain the order of the words but does keep track of the frequency. Have a look at the python function below that encodes a string of text into bag of words. "
   ]
  },
  {
   "cell_type": "code",
   "execution_count": null,
   "id": "b2b69187",
   "metadata": {
    "id": "b2b69187",
    "outputId": "1f432077-2ad6-4d66-93e5-1e8374d042f1"
   },
   "outputs": [
    {
     "name": "stdout",
     "output_type": "stream",
     "text": [
      "{1: 2, 2: 3, 3: 3, 4: 3, 5: 1, 6: 1, 7: 1, 8: 1, 9: 1}\n",
      "{'this': 1, 'is': 2, 'a': 3, 'test': 4, 'to': 5, 'see': 6, 'if': 7, 'will': 8, 'work': 9}\n"
     ]
    }
   ],
   "source": [
    "vocab = {}  # maps word to integer representing it\n",
    "word_encoding = 1\n",
    "def bag_of_words(text):\n",
    "  global word_encoding\n",
    "\n",
    "  words = text.lower().split(\" \")  # create a list of all of the words in the text, well assume there is no grammar in our text for this example\n",
    "  bag = {}  # stores all of the encodings and their frequency\n",
    "\n",
    "  for word in words:\n",
    "    if word in vocab:\n",
    "      encoding = vocab[word]  # get encoding from vocab\n",
    "    else:\n",
    "      vocab[word] = word_encoding\n",
    "      encoding = word_encoding\n",
    "      word_encoding += 1\n",
    "    \n",
    "    if encoding in bag:\n",
    "      bag[encoding] += 1\n",
    "    else:\n",
    "      bag[encoding] = 1\n",
    "  \n",
    "  return bag\n",
    "\n",
    "text = \"this is a test to see if this test will work is is test a a\"\n",
    "bag = bag_of_words(text)\n",
    "print(bag)\n",
    "print(vocab)"
   ]
  },
  {
   "cell_type": "markdown",
   "id": "00237f0b",
   "metadata": {
    "id": "00237f0b"
   },
   "source": [
    "This isn't really the way we would do this in practice, but I hope it gives you an idea of how bag of words works. Notice that we've lost the order in which words appear. In fact, let's look at how this encoding works for the two sentences we showed above.\n"
   ]
  },
  {
   "cell_type": "code",
   "execution_count": null,
   "id": "d686ee9a",
   "metadata": {
    "id": "d686ee9a",
    "outputId": "97b2e8ed-9595-411e-a1a8-05ae8d87e90d"
   },
   "outputs": [
    {
     "name": "stdout",
     "output_type": "stream",
     "text": [
      "Positive: {10: 1, 11: 1, 12: 1, 13: 1, 14: 2, 15: 1, 5: 1, 16: 1, 17: 1, 18: 1, 19: 1, 20: 1, 21: 1}\n",
      "Negative: {10: 1, 11: 1, 12: 1, 13: 1, 14: 2, 15: 1, 5: 1, 16: 1, 21: 1, 18: 1, 19: 1, 20: 1, 17: 1}\n"
     ]
    }
   ],
   "source": [
    "positive_review = \"I thought the movie was going to be bad but it was actually amazing\"\n",
    "negative_review = \"I thought the movie was going to be amazing but it was actually bad\"\n",
    "\n",
    "pos_bag = bag_of_words(positive_review)\n",
    "neg_bag = bag_of_words(negative_review)\n",
    "\n",
    "print(\"Positive:\", pos_bag)\n",
    "print(\"Negative:\", neg_bag)"
   ]
  },
  {
   "cell_type": "markdown",
   "id": "33a31fd0",
   "metadata": {
    "id": "33a31fd0"
   },
   "source": [
    "#### Integer Encoding\n",
    "\n",
    "The next technique we will look at is called **integer encoding**. This involves representing each word or character in a sentence as a unique integer and maintaining the order of these words. This should hopefully fix the problem we saw before were we lost the order of words."
   ]
  },
  {
   "cell_type": "code",
   "execution_count": null,
   "id": "c4ed769d",
   "metadata": {
    "id": "c4ed769d",
    "outputId": "87b7fa49-356e-401a-df56-88233f8d80e8"
   },
   "outputs": [
    {
     "name": "stdout",
     "output_type": "stream",
     "text": [
      "[1, 2, 3, 4, 5, 6, 7, 1, 4, 8, 9, 2, 2, 4, 3, 3]\n",
      "{'this': 1, 'is': 2, 'a': 3, 'test': 4, 'to': 5, 'see': 6, 'if': 7, 'will': 8, 'work': 9}\n"
     ]
    }
   ],
   "source": [
    "vocab = {}  \n",
    "word_encoding = 1\n",
    "def one_hot_encoding(text):\n",
    "  global word_encoding\n",
    "\n",
    "  words = text.lower().split(\" \") \n",
    "  encoding = []  \n",
    "\n",
    "  for word in words:\n",
    "    if word in vocab:\n",
    "      code = vocab[word]  \n",
    "      encoding.append(code) \n",
    "    else:\n",
    "      vocab[word] = word_encoding\n",
    "      encoding.append(word_encoding)\n",
    "      word_encoding += 1\n",
    "  \n",
    "  return encoding\n",
    "\n",
    "text = \"this is a test to see if this test will work is is test a a\"\n",
    "encoding = one_hot_encoding(text)\n",
    "print(encoding)\n",
    "print(vocab)"
   ]
  },
  {
   "cell_type": "code",
   "execution_count": null,
   "id": "9481bdcd",
   "metadata": {
    "id": "9481bdcd",
    "outputId": "be721ba4-b885-4558-f9fd-38edce7e0668"
   },
   "outputs": [
    {
     "name": "stdout",
     "output_type": "stream",
     "text": [
      "Positive: [10, 11, 12, 13, 14, 15, 5, 16, 17, 18, 19, 14, 20, 21]\n",
      "Negative: [10, 11, 12, 13, 14, 15, 5, 16, 21, 18, 19, 14, 20, 17]\n"
     ]
    }
   ],
   "source": [
    "positive_review = \"I thought the movie was going to be bad but it was actually amazing\"\n",
    "negative_review = \"I thought the movie was going to be amazing but it was actually bad\"\n",
    "\n",
    "pos_encode = one_hot_encoding(positive_review)\n",
    "neg_encode = one_hot_encoding(negative_review)\n",
    "\n",
    "print(\"Positive:\", pos_encode)\n",
    "print(\"Negative:\", neg_encode)"
   ]
  },
  {
   "cell_type": "markdown",
   "id": "b117bfa3",
   "metadata": {
    "id": "b117bfa3"
   },
   "source": [
    "Now we are keeping track of the order of words and we can tell where each occurs. But this still has a few issues with it. Ideally when we encode words, we would like similar words to have similar labels and different words to have very different labels. For example, the words happy and joyful should probably have very similar labels so we can determine that they are similar. While words like horrible and amazing should probably have very different labels. The method we looked at above won't be able to do something like this for us. This could mean that the model will have a very difficult time determing if two words are similar or not which could result in some pretty drastic performace impacts."
   ]
  },
  {
   "cell_type": "markdown",
   "id": "9d7d895a",
   "metadata": {
    "id": "9d7d895a"
   },
   "source": [
    "#### Word Embeddings\n",
    "Luckily there is a third method that is far superior, **word embeddings**. This method keeps the order of words intact as well as encodes similar words with very similar labels. It attempts to not only encode the frequency and order of words but the meaning of those words in the sentence. It encodes each word as a dense vector that represents its context in the sentence.\n",
    "\n",
    "Unlike the previous techniques word embeddings are learned by looking at many different training examples. You can add what's called an *embedding layer* to the beginning of your model and while your model trains your embedding layer will learn the correct embeddings for words. You can also use pretrained embedding layers.\n",
    "\n",
    "This is the technique we will use for our examples and its implementation will be showed later on.\n"
   ]
  },
  {
   "cell_type": "markdown",
   "id": "1ebde08a",
   "metadata": {
    "id": "1ebde08a"
   },
   "source": [
    "#### RNN\n",
    "\n",
    "A RNN will process one word at a time while maintaining an internal memory of what it's already seen. This will allow it to treat words differently based on their order in a sentence and to slowly build an understanding of the entire input, one word at a time.\n",
    "\n",
    "This is why we are treating our text data as a sequence! So that we can pass one word at a time to the RNN.\n",
    "\n",
    "Let's have a look at what a recurrent layer might look like.\n",
    "\n",
    "![alt text](https://colah.github.io/posts/2015-08-Understanding-LSTMs/img/RNN-unrolled.png)\n",
    "*Source: https://colah.github.io/posts/2015-08-Understanding-LSTMs/*\n",
    "\n",
    "Let's define what all these variables stand for before we get into the explination.\n",
    "\n",
    "**h<sub>t</sub>** output at time t\n",
    "\n",
    "**x<sub>t</sub>** input at time t\n",
    "\n",
    "**A** Recurrent Layer (loop)\n",
    "\n",
    "What this diagram is trying to illustrate is that a recurrent layer processes words or input one at a time in a combination with the output from the previous iteration. So, as we progress further in the input sequence, we build a more complex understanding of the text as a whole.\n",
    "\n",
    "What we've just looked at is called a **simple RNN layer**. It can be effective at processing shorter sequences of text for simple problems but has many downfalls associated with it. One of them being the fact that as text sequences get longer it gets increasingly difficult for the network to understand the text properly.\n",
    "\n"
   ]
  },
  {
   "cell_type": "markdown",
   "id": "d15555be",
   "metadata": {
    "id": "d15555be"
   },
   "source": [
    "#### Sentiment Analysis\n",
    "And now time to see a recurrent neural network in action. For this example, we are going to do something called sentiment analysis.\n",
    "\n",
    "The formal definition of this term from Wikipedia is as follows:\n",
    "\n",
    "*the process of computationally identifying and categorizing opinions expressed in a piece of text, especially in order to determine whether the writer's attitude towards a particular topic, product, etc. is positive, negative, or neutral.*"
   ]
  },
  {
   "cell_type": "markdown",
   "id": "2e6611c4",
   "metadata": {
    "id": "2e6611c4"
   },
   "source": [
    "#### Movie Review Dataset\n",
    "Well start by loading in the IMDB movie review dataset from tf. This dataset contains 25,000 reviews from IMDB where each one is already preprocessed and has a label as either positive or negative. Each review is encoded by integers that represents how common a word is in the entire dataset. For example, a word encoded by the integer 3 means that it is the 3rd most common word in the dataset.\n",
    " \n"
   ]
  },
  {
   "cell_type": "code",
   "execution_count": null,
   "id": "d1abbc9c",
   "metadata": {
    "id": "d1abbc9c"
   },
   "outputs": [],
   "source": [
    "import numpy as np\n",
    "\n",
    "import tensorflow_datasets as tfds\n",
    "import tensorflow as tf\n",
    "\n",
    "tfds.disable_progress_bar()"
   ]
  },
  {
   "cell_type": "code",
   "execution_count": null,
   "id": "7b26e505",
   "metadata": {
    "id": "7b26e505"
   },
   "outputs": [],
   "source": [
    "import matplotlib.pyplot as plt\n",
    "\n",
    "\n",
    "def plot_graphs(history, metric):\n",
    "  plt.plot(history.history[metric])\n",
    "  plt.plot(history.history['val_'+metric], '')\n",
    "  plt.xlabel(\"Epochs\")\n",
    "  plt.ylabel(metric)\n",
    "  plt.legend([metric, 'val_'+metric])"
   ]
  },
  {
   "cell_type": "markdown",
   "id": "96b6083e",
   "metadata": {
    "id": "96b6083e"
   },
   "source": [
    "#### Setup input pipeline\n",
    "\n",
    "The IMDB large movie review dataset is a binary classification dataset—all the reviews have either a positive or negative sentiment."
   ]
  },
  {
   "cell_type": "code",
   "execution_count": null,
   "id": "e203cc56",
   "metadata": {
    "collapsed": true,
    "id": "e203cc56",
    "outputId": "1e52c2c6-57e2-40c5-f587-46c165dbfbe9"
   },
   "outputs": [
    {
     "name": "stderr",
     "output_type": "stream",
     "text": [
      "2023-05-25 11:26:27.421954: W tensorflow/core/platform/cloud/google_auth_provider.cc:184] All attempts to get a Google authentication bearer token failed, returning an empty token. Retrieving token from files failed with \"NOT_FOUND: Could not locate the credentials file.\". Retrieving token from GCE failed with \"FAILED_PRECONDITION: Error executing an HTTP request: libcurl code 6 meaning 'Couldn't resolve host name', error details: Could not resolve host: metadata\".\n"
     ]
    },
    {
     "name": "stdout",
     "output_type": "stream",
     "text": [
      "\u001b[1mDownloading and preparing dataset 80.23 MiB (download: 80.23 MiB, generated: Unknown size, total: 80.23 MiB) to /Users/arjan1/tensorflow_datasets/imdb_reviews/plain_text/1.0.0...\u001b[0m\n",
      "\u001b[1mDataset imdb_reviews downloaded and prepared to /Users/arjan1/tensorflow_datasets/imdb_reviews/plain_text/1.0.0. Subsequent calls will reuse this data.\u001b[0m\n"
     ]
    },
    {
     "data": {
      "text/plain": [
       "(TensorSpec(shape=(), dtype=tf.string, name=None),\n",
       " TensorSpec(shape=(), dtype=tf.int64, name=None))"
      ]
     },
     "execution_count": 17,
     "metadata": {},
     "output_type": "execute_result"
    }
   ],
   "source": [
    "dataset, info = tfds.load('imdb_reviews', with_info=True,\n",
    "                          as_supervised=True)\n",
    "train_dataset, test_dataset = dataset['train'], dataset['test']\n",
    "\n",
    "train_dataset.element_spec"
   ]
  },
  {
   "cell_type": "markdown",
   "id": "b024313a",
   "metadata": {
    "id": "b024313a"
   },
   "source": [
    "Initially this returns a dataset of (text, label pairs):"
   ]
  },
  {
   "cell_type": "code",
   "execution_count": null,
   "id": "79448e40",
   "metadata": {
    "collapsed": true,
    "id": "79448e40",
    "outputId": "45595531-d212-4129-9a85-e1458cf23bff"
   },
   "outputs": [
    {
     "name": "stdout",
     "output_type": "stream",
     "text": [
      "text:  b\"This was an absolutely terrible movie. Don't be lured in by Christopher Walken or Michael Ironside. Both are great actors, but this must simply be their worst role in history. Even their great acting could not redeem this movie's ridiculous storyline. This movie is an early nineties US propaganda piece. The most pathetic scenes were those when the Columbian rebels were making their cases for revolutions. Maria Conchita Alonso appeared phony, and her pseudo-love affair with Walken was nothing but a pathetic emotional plug in a movie that was devoid of any real meaning. I am disappointed that there are movies like this, ruining actor's like Christopher Walken's good name. I could barely sit through it.\"\n",
      "label:  0\n"
     ]
    },
    {
     "name": "stderr",
     "output_type": "stream",
     "text": [
      "2023-05-25 11:30:42.351986: W tensorflow/core/kernels/data/cache_dataset_ops.cc:856] The calling iterator did not fully read the dataset being cached. In order to avoid unexpected truncation of the dataset, the partially cached contents of the dataset  will be discarded. This can happen if you have an input pipeline similar to `dataset.cache().take(k).repeat()`. You should use `dataset.take(k).cache().repeat()` instead.\n"
     ]
    }
   ],
   "source": [
    "for example, label in train_dataset.take(1):\n",
    "  print('text: ', example.numpy())\n",
    "  print('label: ', label.numpy())"
   ]
  },
  {
   "cell_type": "markdown",
   "id": "5692ef65",
   "metadata": {
    "id": "5692ef65"
   },
   "source": [
    "Next shuffle the data for training and create batches of these (text, label) pairs:"
   ]
  },
  {
   "cell_type": "code",
   "execution_count": null,
   "id": "2adc9d2d",
   "metadata": {
    "id": "2adc9d2d"
   },
   "outputs": [],
   "source": [
    "BUFFER_SIZE = 10000\n",
    "BATCH_SIZE = 64"
   ]
  },
  {
   "cell_type": "code",
   "execution_count": null,
   "id": "740dcdbd",
   "metadata": {
    "id": "740dcdbd"
   },
   "outputs": [],
   "source": [
    "train_dataset = train_dataset.shuffle(BUFFER_SIZE).batch(BATCH_SIZE).prefetch(tf.data.AUTOTUNE)\n",
    "test_dataset = test_dataset.batch(BATCH_SIZE).prefetch(tf.data.AUTOTUNE)"
   ]
  },
  {
   "cell_type": "code",
   "execution_count": null,
   "id": "5ca22a76",
   "metadata": {
    "collapsed": true,
    "id": "5ca22a76",
    "outputId": "0ffc48ef-00b3-44e9-c59b-7b2ef3594fae"
   },
   "outputs": [
    {
     "name": "stdout",
     "output_type": "stream",
     "text": [
      "texts:  [b'From the first moment, this \"thing\" is just an awful sequence of extremely short cuts of blurry camera work. While the overall plot has every potential for a thriller, the story is so badly told that I\\'m unable to buy it. From the middle of the film, the actions of characters don\\'t make sense to me. Stop reading now to avoid SPOILERS.<br /><br />For instance, Ed\\'s idea to have Edna make coffee for them after having shot off her son\\'s arm is way below his alleged experience; it\\'s just an extremely stupid idea. Domino not questioning the fragmentary orders she receives from Claremont Williams over a breaking-up phone connection just eludes me; shouldn\\'t she be long suspicious that Williams is turning them in? Those FBI agents seem out of their minds showing up with just one single helicopter to something they have every reason to consider a capital mafia shoot-out. Besides, what they do by withholding and leaking information towards Cigliutti is pretty much incitement to murder; it seems to me like farewell to justice if that\\'s they way the FBI does investigations. In reality, they\\'d have a case messed up beyond repair if they acted like this. We get to see a car accident which normally would have at least seriously injured if not killed most of the passengers but miraculously leaves all of them with just a few bruises. Quite the contrary, the accident is immediately followed by Domino making love to Choco, which is from Domino\\'s viewpoint in no way founded by previous events but just by being drugged to the eyeballs.<br /><br />The whole sequence of scenes starting from the phone call of Claremont Williams appears to me just as want-to-be dramatic razzle-dazzle. This combined with the awful, uneasy camera work just makes a piece I hesitate to call a movie. I\\'m sorry for the wasted effort of the main actors, whose talent is out of question.'\n",
      " b\"The pakage implies that Warren Beatty and Goldie Hawn are pulling off a huge bank robbery, but that's not what I got out of it! I didn't get anything! In the first half there's a new character (without introduction) in every other scene. The first half-hour is completely incomprehensible, the rest is just one long, annoying, underlit chase scene. There's always an irritating sound in the background whether it's a loud watch ticking, a blaring siren, a train whistling, or even the horrible score by Quincy Jones. There are a lot of parts that are laughably bad, too. Like, the bad guys chasing Beatty on thin ice with a CAR! Or, the police arriving at the scene roughly fifteen times. I really hated this movie!\"\n",
      " b\"If you really, truly want to waste two hours of your life, do the following: <br /><br />1) Look through the TV listings. 2) Find the movie 'Men in White'. 3) When 'Men in White' comes on, sit and watch.<br /><br />And that's it. After sitting through two hours of bad puns, dreadful (and not that funny) movie references, and experiencing something with possibly the lowest production values ever made in recent history, you will have wasted two hours of your life, and wonder exactly why.<br /><br />Why did I do this? I was stupid enough to think that this film might actually be some good. It wasn't.<br /><br />But, on the other hand, if you're old enough to remember Power Rangers, you might spot some familiar faces during the film. Presumably to save on production costs, Saban (who also make Power Rangers), decided to liberally sprinkle old monster costumes from everyone's favourite tacky toy-spawning franchise throughout the film. I spotted quite a few old monsters from episodes I saw from when I was a kid, so I guess it could at least be said it has some nostalgia value.<br /><br />But, if you want to see actual Power Rangers monsters, go watch Power Rangers itself. It's much better than this piece of garbage. (And that's saying something!)\"]\n",
      "\n",
      "labels:  [0 0 0]\n"
     ]
    },
    {
     "name": "stderr",
     "output_type": "stream",
     "text": [
      "2023-05-25 11:32:23.431180: W tensorflow/core/kernels/data/cache_dataset_ops.cc:856] The calling iterator did not fully read the dataset being cached. In order to avoid unexpected truncation of the dataset, the partially cached contents of the dataset  will be discarded. This can happen if you have an input pipeline similar to `dataset.cache().take(k).repeat()`. You should use `dataset.take(k).cache().repeat()` instead.\n"
     ]
    }
   ],
   "source": [
    "for example, label in train_dataset.take(1):\n",
    "  print('texts: ', example.numpy()[:3])\n",
    "  print()\n",
    "  print('labels: ', label.numpy()[:3])"
   ]
  },
  {
   "cell_type": "markdown",
   "id": "40209fe3",
   "metadata": {
    "id": "40209fe3"
   },
   "source": [
    "#### Create the text encoder\n",
    "\n",
    "The raw text loaded by tfds needs to be processed before it can be used in a model. The simplest way to process text for training is using the TextVectorization layer. This layer has many capabilities, but this tutorial sticks to the default behavior.\n",
    "\n",
    "Create the layer, and pass the dataset's text to the layer's .adapt method:"
   ]
  },
  {
   "cell_type": "code",
   "execution_count": null,
   "id": "00106c26",
   "metadata": {
    "collapsed": true,
    "id": "00106c26",
    "outputId": "86ef0f81-9740-4e74-96c4-92332337c895"
   },
   "outputs": [
    {
     "name": "stdout",
     "output_type": "stream",
     "text": [
      "WARNING:tensorflow:From /Users/arjan1/anaconda3/envs/main/lib/python3.10/site-packages/tensorflow/python/autograph/pyct/static_analysis/liveness.py:83: Analyzer.lamba_check (from tensorflow.python.autograph.pyct.static_analysis.liveness) is deprecated and will be removed after 2023-09-23.\n",
      "Instructions for updating:\n",
      "Lambda fuctions will be no more assumed to be used in the statement where they are used, or at least in the same block. https://github.com/tensorflow/tensorflow/issues/56089\n"
     ]
    },
    {
     "name": "stderr",
     "output_type": "stream",
     "text": [
      "WARNING:tensorflow:From /Users/arjan1/anaconda3/envs/main/lib/python3.10/site-packages/tensorflow/python/autograph/pyct/static_analysis/liveness.py:83: Analyzer.lamba_check (from tensorflow.python.autograph.pyct.static_analysis.liveness) is deprecated and will be removed after 2023-09-23.\n",
      "Instructions for updating:\n",
      "Lambda fuctions will be no more assumed to be used in the statement where they are used, or at least in the same block. https://github.com/tensorflow/tensorflow/issues/56089\n"
     ]
    }
   ],
   "source": [
    "VOCAB_SIZE = 1000\n",
    "encoder = tf.keras.layers.TextVectorization(\n",
    "    max_tokens=VOCAB_SIZE)\n",
    "encoder.adapt(train_dataset.map(lambda text, label: text))"
   ]
  },
  {
   "cell_type": "markdown",
   "id": "17111da9",
   "metadata": {
    "id": "17111da9"
   },
   "source": [
    "The .adapt method sets the layer's vocabulary. Here are the first 20 tokens. After the padding and unknown tokens they're sorted by frequency:"
   ]
  },
  {
   "cell_type": "code",
   "execution_count": null,
   "id": "e35f4762",
   "metadata": {
    "id": "e35f4762",
    "outputId": "522b2cf3-c003-45b9-de99-9f838945e452"
   },
   "outputs": [
    {
     "data": {
      "text/plain": [
       "array(['', '[UNK]', 'the', 'and', 'a', 'of', 'to', 'is', 'in', 'it', 'i',\n",
       "       'this', 'that', 'br', 'was', 'as', 'for', 'with', 'movie', 'but'],\n",
       "      dtype='<U14')"
      ]
     },
     "execution_count": 23,
     "metadata": {},
     "output_type": "execute_result"
    }
   ],
   "source": [
    "vocab = np.array(encoder.get_vocabulary())\n",
    "vocab[:20]"
   ]
  },
  {
   "cell_type": "markdown",
   "id": "3307f3b3",
   "metadata": {
    "id": "3307f3b3"
   },
   "source": [
    "Once the vocabulary is set, the layer can encode text into indices. The tensors of indices are 0-padded to the longest sequence in the batch (unless you set a fixed output_sequence_length):"
   ]
  },
  {
   "cell_type": "code",
   "execution_count": null,
   "id": "59232ee5",
   "metadata": {
    "id": "59232ee5",
    "outputId": "8e71a745-e92e-473c-b180-a2ecabdb3fa1"
   },
   "outputs": [
    {
     "data": {
      "text/plain": [
       "array([[36,  2, 86, ...,  0,  0,  0],\n",
       "       [ 2,  1,  1, ...,  0,  0,  0],\n",
       "       [45, 23, 63, ...,  0,  0,  0]])"
      ]
     },
     "execution_count": 24,
     "metadata": {},
     "output_type": "execute_result"
    }
   ],
   "source": [
    "encoded_example = encoder(example)[:3].numpy()\n",
    "encoded_example"
   ]
  },
  {
   "cell_type": "markdown",
   "id": "946ddaae",
   "metadata": {
    "id": "946ddaae"
   },
   "source": [
    "With the default settings, the process is not completely reversible. There are three main reasons for that:\n",
    "\n",
    "1. The default value for `preprocessing.TextVectorization`'s `standardize` argument is `\"lower_and_strip_punctuation\"`.\n",
    "2. The limited vocabulary size and lack of character-based fallback results in some unknown tokens."
   ]
  },
  {
   "cell_type": "code",
   "execution_count": null,
   "id": "964436da",
   "metadata": {
    "collapsed": true,
    "id": "964436da",
    "outputId": "74180f0a-78b5-4778-b75a-0972010664bb"
   },
   "outputs": [
    {
     "name": "stdout",
     "output_type": "stream",
     "text": [
      "Original:  b'From the first moment, this \"thing\" is just an awful sequence of extremely short cuts of blurry camera work. While the overall plot has every potential for a thriller, the story is so badly told that I\\'m unable to buy it. From the middle of the film, the actions of characters don\\'t make sense to me. Stop reading now to avoid SPOILERS.<br /><br />For instance, Ed\\'s idea to have Edna make coffee for them after having shot off her son\\'s arm is way below his alleged experience; it\\'s just an extremely stupid idea. Domino not questioning the fragmentary orders she receives from Claremont Williams over a breaking-up phone connection just eludes me; shouldn\\'t she be long suspicious that Williams is turning them in? Those FBI agents seem out of their minds showing up with just one single helicopter to something they have every reason to consider a capital mafia shoot-out. Besides, what they do by withholding and leaking information towards Cigliutti is pretty much incitement to murder; it seems to me like farewell to justice if that\\'s they way the FBI does investigations. In reality, they\\'d have a case messed up beyond repair if they acted like this. We get to see a car accident which normally would have at least seriously injured if not killed most of the passengers but miraculously leaves all of them with just a few bruises. Quite the contrary, the accident is immediately followed by Domino making love to Choco, which is from Domino\\'s viewpoint in no way founded by previous events but just by being drugged to the eyeballs.<br /><br />The whole sequence of scenes starting from the phone call of Claremont Williams appears to me just as want-to-be dramatic razzle-dazzle. This combined with the awful, uneasy camera work just makes a piece I hesitate to call a movie. I\\'m sorry for the wasted effort of the main actors, whose talent is out of question.'\n",
      "Round-trip:  from the first moment this thing is just an awful sequence of extremely short [UNK] of [UNK] camera work while the overall plot has every potential for a thriller the story is so badly told that im [UNK] to buy it from the middle of the film the [UNK] of characters dont make sense to me stop reading now to avoid [UNK] br for [UNK] [UNK] idea to have [UNK] make [UNK] for them after having shot off her [UNK] [UNK] is way [UNK] his [UNK] experience its just an extremely stupid idea [UNK] not [UNK] the [UNK] [UNK] she [UNK] from [UNK] [UNK] over a [UNK] [UNK] [UNK] just [UNK] me [UNK] she be long [UNK] that [UNK] is [UNK] them in those [UNK] [UNK] seem out of their [UNK] showing up with just one single [UNK] to something they have every reason to [UNK] a [UNK] [UNK] [UNK] [UNK] what they do by [UNK] and [UNK] [UNK] towards [UNK] is pretty much [UNK] to murder it seems to me like [UNK] to [UNK] if thats they way the [UNK] does [UNK] in reality [UNK] have a case [UNK] up beyond [UNK] if they [UNK] like this we get to see a car [UNK] which [UNK] would have at least seriously [UNK] if not killed most of the [UNK] but [UNK] leaves all of them with just a few [UNK] quite the [UNK] the [UNK] is [UNK] [UNK] by [UNK] making love to [UNK] which is from [UNK] [UNK] in no way [UNK] by previous events but just by being [UNK] to the [UNK] br the whole sequence of scenes [UNK] from the [UNK] call of [UNK] [UNK] appears to me just as [UNK] dramatic [UNK] this [UNK] with the awful [UNK] camera work just makes a piece i [UNK] to call a movie im sorry for the [UNK] effort of the main actors whose talent is out of question                                                                                                                                                                                                                                                                         \n",
      "\n",
      "Original:  b\"The pakage implies that Warren Beatty and Goldie Hawn are pulling off a huge bank robbery, but that's not what I got out of it! I didn't get anything! In the first half there's a new character (without introduction) in every other scene. The first half-hour is completely incomprehensible, the rest is just one long, annoying, underlit chase scene. There's always an irritating sound in the background whether it's a loud watch ticking, a blaring siren, a train whistling, or even the horrible score by Quincy Jones. There are a lot of parts that are laughably bad, too. Like, the bad guys chasing Beatty on thin ice with a CAR! Or, the police arriving at the scene roughly fifteen times. I really hated this movie!\"\n",
      "Round-trip:  the [UNK] [UNK] that [UNK] [UNK] and [UNK] [UNK] are [UNK] off a huge [UNK] [UNK] but thats not what i got out of it i didnt get anything in the first half theres a new character without [UNK] in every other scene the first [UNK] is completely [UNK] the rest is just one long annoying [UNK] [UNK] scene theres always an [UNK] sound in the background whether its a [UNK] watch [UNK] a [UNK] [UNK] a [UNK] [UNK] or even the horrible score by [UNK] [UNK] there are a lot of parts that are [UNK] bad too like the bad guys [UNK] [UNK] on [UNK] [UNK] with a car or the police [UNK] at the scene [UNK] [UNK] times i really [UNK] this movie                                                                                                                                                                                                                                                                                                                                                                                                                                                                             \n",
      "\n",
      "Original:  b\"If you really, truly want to waste two hours of your life, do the following: <br /><br />1) Look through the TV listings. 2) Find the movie 'Men in White'. 3) When 'Men in White' comes on, sit and watch.<br /><br />And that's it. After sitting through two hours of bad puns, dreadful (and not that funny) movie references, and experiencing something with possibly the lowest production values ever made in recent history, you will have wasted two hours of your life, and wonder exactly why.<br /><br />Why did I do this? I was stupid enough to think that this film might actually be some good. It wasn't.<br /><br />But, on the other hand, if you're old enough to remember Power Rangers, you might spot some familiar faces during the film. Presumably to save on production costs, Saban (who also make Power Rangers), decided to liberally sprinkle old monster costumes from everyone's favourite tacky toy-spawning franchise throughout the film. I spotted quite a few old monsters from episodes I saw from when I was a kid, so I guess it could at least be said it has some nostalgia value.<br /><br />But, if you want to see actual Power Rangers monsters, go watch Power Rangers itself. It's much better than this piece of garbage. (And that's saying something!)\"\n",
      "Round-trip:  if you really truly want to waste two hours of your life do the [UNK] br br 1 look through the tv [UNK] 2 find the movie men in white 3 when men in white comes on sit and [UNK] br and thats it after [UNK] through two hours of bad [UNK] [UNK] and not that funny movie [UNK] and [UNK] something with possibly the [UNK] production [UNK] ever made in [UNK] history you will have [UNK] two hours of your life and wonder exactly [UNK] br why did i do this i was stupid enough to think that this film might actually be some good it [UNK] br but on the other hand if youre old enough to remember power [UNK] you might [UNK] some [UNK] [UNK] during the film [UNK] to save on production [UNK] [UNK] who also make power [UNK] decided to [UNK] [UNK] old monster [UNK] from [UNK] [UNK] [UNK] [UNK] [UNK] throughout the film i [UNK] quite a few old [UNK] from episodes i saw from when i was a kid so i guess it could at least be said it has some [UNK] [UNK] br but if you want to see actual power [UNK] [UNK] go watch power [UNK] itself its much better than this piece of [UNK] and thats saying something                                                                                                                                                                                                                                                                                                                                                                                \n",
      "\n"
     ]
    }
   ],
   "source": [
    "for n in range(3):\n",
    "  print(\"Original: \", example[n].numpy())\n",
    "  print(\"Round-trip: \", \" \".join(vocab[encoded_example[n]]))\n",
    "  print()"
   ]
  },
  {
   "cell_type": "markdown",
   "id": "d0a33161",
   "metadata": {
    "id": "d0a33161"
   },
   "source": [
    "#### Create the model\n",
    "\n",
    "![A drawing of the information flow in the model](bidirectional.png)\n",
    "\n",
    "Above is a diagram of the model. \n",
    "\n",
    "1. This model can be build as a `tf.keras.Sequential`.\n",
    "\n",
    "2. The first layer is the `encoder`, which converts the text to a sequence of token indices.\n",
    "\n",
    "3. After the encoder is an embedding layer. An embedding layer stores one vector per word. When called, it converts the sequences of word indices to sequences of vectors. These vectors are trainable. After training (on enough data), words with similar meanings often have similar vectors.\n",
    "\n",
    "  This index-lookup is much more efficient than the equivalent operation of passing a one-hot encoded vector through a `tf.keras.layers.Dense` layer.\n",
    "\n",
    "4. A recurrent neural network (RNN) processes sequence input by iterating through the elements. RNNs pass the outputs from one timestep to their input on the next timestep.\n",
    "\n",
    "  The `tf.keras.layers.Bidirectional` wrapper can also be used with an RNN layer. This propagates the input forward and backwards through the RNN layer and then concatenates the final output. \n",
    "\n",
    "  * The main advantage of a bidirectional RNN is that the signal from the beginning of the input doesn't need to be processed all the way through every timestep to affect the output.  \n",
    "\n",
    "  * The main disadvantage of a bidirectional RNN is that you can't efficiently stream predictions as words are being added to the end.\n",
    "\n",
    "5. After the RNN has converted the sequence to a single vector the two `layers.Dense` do some final processing, and convert from this vector representation to a single logit as the classification output. "
   ]
  },
  {
   "cell_type": "code",
   "execution_count": null,
   "id": "94048bb9",
   "metadata": {
    "id": "94048bb9"
   },
   "outputs": [],
   "source": [
    "model = tf.keras.Sequential([\n",
    "    encoder,\n",
    "    tf.keras.layers.Embedding(\n",
    "        input_dim=len(encoder.get_vocabulary()),\n",
    "        output_dim=64,\n",
    "        # Use masking to handle the variable sequence lengths\n",
    "        mask_zero=True),\n",
    "    tf.keras.layers.Bidirectional(tf.keras.layers.LSTM(64)),\n",
    "    tf.keras.layers.Dense(64, activation='relu'),\n",
    "    tf.keras.layers.Dense(1)\n",
    "])"
   ]
  },
  {
   "cell_type": "markdown",
   "id": "9648d900",
   "metadata": {
    "id": "9648d900"
   },
   "source": [
    " Keras sequential model is used here since all the layers in the model only have single input and produce single output. In case you want to use stateful RNN layer, you might want to build your model with Keras functional API or model subclassing so that you can retrieve and reuse the RNN layer states. \n",
    " \n",
    "The embedding layer uses masking to handle the varying sequence-lengths. All the layers after the Embedding support masking:"
   ]
  },
  {
   "cell_type": "code",
   "execution_count": null,
   "id": "aa8a1e45",
   "metadata": {
    "id": "aa8a1e45",
    "outputId": "1b28a416-914e-4a95-9f5b-04bb1d925633"
   },
   "outputs": [
    {
     "name": "stdout",
     "output_type": "stream",
     "text": [
      "[False, True, True, True, True]\n"
     ]
    }
   ],
   "source": [
    "print([layer.supports_masking for layer in model.layers])"
   ]
  },
  {
   "cell_type": "markdown",
   "id": "b22d27a3",
   "metadata": {
    "id": "b22d27a3"
   },
   "source": [
    "To confirm that this works as expected, evaluate a sentence twice. First, alone so there's no padding to mask:"
   ]
  },
  {
   "cell_type": "code",
   "execution_count": null,
   "id": "c16b7ef9",
   "metadata": {
    "id": "c16b7ef9",
    "outputId": "7dd91255-5aef-4111-a6f3-b91c746f5803"
   },
   "outputs": [
    {
     "name": "stdout",
     "output_type": "stream",
     "text": [
      "1/1 [==============================] - 1s 1s/step\n",
      "[0.00653337]\n"
     ]
    }
   ],
   "source": [
    "# predict on a sample text without padding.\n",
    "\n",
    "sample_text = ('The movie was cool. The animation and the graphics '\n",
    "               'were out of this world. I would recommend this movie.')\n",
    "predictions = model.predict(np.array([sample_text]))\n",
    "print(predictions[0])"
   ]
  },
  {
   "cell_type": "markdown",
   "id": "c2305e1d",
   "metadata": {
    "id": "c2305e1d"
   },
   "source": [
    "Now, evaluate it again in a batch with a longer sentence. The result should be identical:"
   ]
  },
  {
   "cell_type": "code",
   "execution_count": null,
   "id": "d97ad76e",
   "metadata": {
    "id": "d97ad76e",
    "outputId": "7ab8bf68-10ef-4293-8100-184a8d5a01bc"
   },
   "outputs": [
    {
     "name": "stdout",
     "output_type": "stream",
     "text": [
      "1/1 [==============================] - 0s 263ms/step\n",
      "[0.00653337]\n"
     ]
    }
   ],
   "source": [
    "# predict on a sample text with padding\n",
    "\n",
    "padding = \"the \" * 2000\n",
    "predictions = model.predict(np.array([sample_text, padding]))\n",
    "print(predictions[0])"
   ]
  },
  {
   "cell_type": "markdown",
   "id": "ec63c08b",
   "metadata": {
    "id": "ec63c08b"
   },
   "source": [
    "Compile the Keras model to configure the training process:"
   ]
  },
  {
   "cell_type": "code",
   "execution_count": null,
   "id": "5fca84ed",
   "metadata": {
    "id": "5fca84ed"
   },
   "outputs": [],
   "source": [
    "model.compile(loss=tf.keras.losses.BinaryCrossentropy(from_logits=True),\n",
    "              optimizer=tf.keras.optimizers.Adam(1e-4),\n",
    "              metrics=['accuracy'])"
   ]
  },
  {
   "cell_type": "markdown",
   "id": "32a3ce3f",
   "metadata": {
    "id": "32a3ce3f"
   },
   "source": [
    "#### Train the model"
   ]
  },
  {
   "cell_type": "code",
   "execution_count": null,
   "id": "83c530bd",
   "metadata": {
    "id": "83c530bd",
    "outputId": "20c12ffc-f099-45ba-c23b-89b78f253995",
    "scrolled": true
   },
   "outputs": [
    {
     "name": "stdout",
     "output_type": "stream",
     "text": [
      "Epoch 1/10\n",
      "391/391 [==============================] - 175s 438ms/step - loss: 0.6376 - accuracy: 0.5748 - val_loss: 0.4949 - val_accuracy: 0.7958\n",
      "Epoch 2/10\n"
     ]
    },
    {
     "name": "stderr",
     "output_type": "stream",
     "text": [
      "2023-05-25 11:42:48.527999: W tensorflow/core/kernels/data/cache_dataset_ops.cc:856] The calling iterator did not fully read the dataset being cached. In order to avoid unexpected truncation of the dataset, the partially cached contents of the dataset  will be discarded. This can happen if you have an input pipeline similar to `dataset.cache().take(k).repeat()`. You should use `dataset.take(k).cache().repeat()` instead.\n"
     ]
    },
    {
     "name": "stdout",
     "output_type": "stream",
     "text": [
      "391/391 [==============================] - 169s 433ms/step - loss: 0.3884 - accuracy: 0.8225 - val_loss: 0.3622 - val_accuracy: 0.8333\n",
      "Epoch 3/10\n"
     ]
    },
    {
     "name": "stderr",
     "output_type": "stream",
     "text": [
      "2023-05-25 11:45:37.856824: W tensorflow/core/kernels/data/cache_dataset_ops.cc:856] The calling iterator did not fully read the dataset being cached. In order to avoid unexpected truncation of the dataset, the partially cached contents of the dataset  will be discarded. This can happen if you have an input pipeline similar to `dataset.cache().take(k).repeat()`. You should use `dataset.take(k).cache().repeat()` instead.\n"
     ]
    },
    {
     "name": "stdout",
     "output_type": "stream",
     "text": [
      "391/391 [==============================] - 173s 442ms/step - loss: 0.3340 - accuracy: 0.8525 - val_loss: 0.3516 - val_accuracy: 0.8531\n",
      "Epoch 4/10\n"
     ]
    },
    {
     "name": "stderr",
     "output_type": "stream",
     "text": [
      "2023-05-25 11:48:30.623174: W tensorflow/core/kernels/data/cache_dataset_ops.cc:856] The calling iterator did not fully read the dataset being cached. In order to avoid unexpected truncation of the dataset, the partially cached contents of the dataset  will be discarded. This can happen if you have an input pipeline similar to `dataset.cache().take(k).repeat()`. You should use `dataset.take(k).cache().repeat()` instead.\n"
     ]
    },
    {
     "name": "stdout",
     "output_type": "stream",
     "text": [
      "391/391 [==============================] - 172s 440ms/step - loss: 0.3202 - accuracy: 0.8616 - val_loss: 0.3293 - val_accuracy: 0.8495\n",
      "Epoch 5/10\n"
     ]
    },
    {
     "name": "stderr",
     "output_type": "stream",
     "text": [
      "2023-05-25 11:51:22.645038: W tensorflow/core/kernels/data/cache_dataset_ops.cc:856] The calling iterator did not fully read the dataset being cached. In order to avoid unexpected truncation of the dataset, the partially cached contents of the dataset  will be discarded. This can happen if you have an input pipeline similar to `dataset.cache().take(k).repeat()`. You should use `dataset.take(k).cache().repeat()` instead.\n"
     ]
    },
    {
     "name": "stdout",
     "output_type": "stream",
     "text": [
      "391/391 [==============================] - 173s 443ms/step - loss: 0.3137 - accuracy: 0.8649 - val_loss: 0.3270 - val_accuracy: 0.8547\n",
      "Epoch 6/10\n"
     ]
    },
    {
     "name": "stderr",
     "output_type": "stream",
     "text": [
      "2023-05-25 11:54:15.834190: W tensorflow/core/kernels/data/cache_dataset_ops.cc:856] The calling iterator did not fully read the dataset being cached. In order to avoid unexpected truncation of the dataset, the partially cached contents of the dataset  will be discarded. This can happen if you have an input pipeline similar to `dataset.cache().take(k).repeat()`. You should use `dataset.take(k).cache().repeat()` instead.\n"
     ]
    },
    {
     "name": "stdout",
     "output_type": "stream",
     "text": [
      "391/391 [==============================] - 171s 436ms/step - loss: 0.3074 - accuracy: 0.8674 - val_loss: 0.3219 - val_accuracy: 0.8568\n",
      "Epoch 7/10\n"
     ]
    },
    {
     "name": "stderr",
     "output_type": "stream",
     "text": [
      "2023-05-25 11:57:06.375395: W tensorflow/core/kernels/data/cache_dataset_ops.cc:856] The calling iterator did not fully read the dataset being cached. In order to avoid unexpected truncation of the dataset, the partially cached contents of the dataset  will be discarded. This can happen if you have an input pipeline similar to `dataset.cache().take(k).repeat()`. You should use `dataset.take(k).cache().repeat()` instead.\n"
     ]
    },
    {
     "name": "stdout",
     "output_type": "stream",
     "text": [
      "391/391 [==============================] - 169s 432ms/step - loss: 0.3046 - accuracy: 0.8698 - val_loss: 0.3254 - val_accuracy: 0.8573\n",
      "Epoch 8/10\n"
     ]
    },
    {
     "name": "stderr",
     "output_type": "stream",
     "text": [
      "2023-05-25 11:59:55.386214: W tensorflow/core/kernels/data/cache_dataset_ops.cc:856] The calling iterator did not fully read the dataset being cached. In order to avoid unexpected truncation of the dataset, the partially cached contents of the dataset  will be discarded. This can happen if you have an input pipeline similar to `dataset.cache().take(k).repeat()`. You should use `dataset.take(k).cache().repeat()` instead.\n"
     ]
    },
    {
     "name": "stdout",
     "output_type": "stream",
     "text": [
      "391/391 [==============================] - 173s 443ms/step - loss: 0.3026 - accuracy: 0.8687 - val_loss: 0.3232 - val_accuracy: 0.8500\n",
      "Epoch 9/10\n"
     ]
    },
    {
     "name": "stderr",
     "output_type": "stream",
     "text": [
      "2023-05-25 12:02:48.536281: W tensorflow/core/kernels/data/cache_dataset_ops.cc:856] The calling iterator did not fully read the dataset being cached. In order to avoid unexpected truncation of the dataset, the partially cached contents of the dataset  will be discarded. This can happen if you have an input pipeline similar to `dataset.cache().take(k).repeat()`. You should use `dataset.take(k).cache().repeat()` instead.\n"
     ]
    },
    {
     "name": "stdout",
     "output_type": "stream",
     "text": [
      "391/391 [==============================] - 171s 437ms/step - loss: 0.2996 - accuracy: 0.8704 - val_loss: 0.3287 - val_accuracy: 0.8557\n",
      "Epoch 10/10\n"
     ]
    },
    {
     "name": "stderr",
     "output_type": "stream",
     "text": [
      "2023-05-25 12:05:39.262051: W tensorflow/core/kernels/data/cache_dataset_ops.cc:856] The calling iterator did not fully read the dataset being cached. In order to avoid unexpected truncation of the dataset, the partially cached contents of the dataset  will be discarded. This can happen if you have an input pipeline similar to `dataset.cache().take(k).repeat()`. You should use `dataset.take(k).cache().repeat()` instead.\n"
     ]
    },
    {
     "name": "stdout",
     "output_type": "stream",
     "text": [
      "391/391 [==============================] - 173s 443ms/step - loss: 0.2973 - accuracy: 0.8732 - val_loss: 0.3198 - val_accuracy: 0.8599\n"
     ]
    },
    {
     "name": "stderr",
     "output_type": "stream",
     "text": [
      "2023-05-25 12:08:32.461297: W tensorflow/core/kernels/data/cache_dataset_ops.cc:856] The calling iterator did not fully read the dataset being cached. In order to avoid unexpected truncation of the dataset, the partially cached contents of the dataset  will be discarded. This can happen if you have an input pipeline similar to `dataset.cache().take(k).repeat()`. You should use `dataset.take(k).cache().repeat()` instead.\n"
     ]
    }
   ],
   "source": [
    "history = model.fit(train_dataset, epochs=10,\n",
    "                    validation_data=test_dataset,\n",
    "                    validation_steps=30)"
   ]
  },
  {
   "cell_type": "code",
   "execution_count": null,
   "id": "661686d6",
   "metadata": {
    "id": "661686d6",
    "outputId": "36e1fbdc-64e7-46b9-8eb6-1a1b4b35d56a"
   },
   "outputs": [
    {
     "name": "stdout",
     "output_type": "stream",
     "text": [
      "391/391 [==============================] - 53s 137ms/step - loss: 0.3144 - accuracy: 0.8602\n",
      "Test Loss: 0.3144073188304901\n",
      "Test Accuracy: 0.8601599931716919\n"
     ]
    }
   ],
   "source": [
    "test_loss, test_acc = model.evaluate(test_dataset)\n",
    "\n",
    "print('Test Loss:', test_loss)\n",
    "print('Test Accuracy:', test_acc)"
   ]
  },
  {
   "cell_type": "code",
   "execution_count": null,
   "id": "636f8899",
   "metadata": {
    "id": "636f8899",
    "outputId": "144ac488-0d91-4a7a-af91-0fd8f412ba2e"
   },
   "outputs": [
    {
     "data": {
      "text/plain": [
       "(0.0, 0.6545749068260193)"
      ]
     },
     "execution_count": 34,
     "metadata": {},
     "output_type": "execute_result"
    },
    {
     "data": {
      "image/png": "[encoded data removed]",
      "text/plain": [
       "<Figure size 1600x800 with 2 Axes>"
      ]
     },
     "metadata": {},
     "output_type": "display_data"
    }
   ],
   "source": [
    "plt.figure(figsize=(16, 8))\n",
    "plt.subplot(1, 2, 1)\n",
    "plot_graphs(history, 'accuracy')\n",
    "plt.ylim(None, 1)\n",
    "plt.subplot(1, 2, 2)\n",
    "plot_graphs(history, 'loss')\n",
    "plt.ylim(0, None)"
   ]
  },
  {
   "cell_type": "markdown",
   "id": "18a3582f",
   "metadata": {
    "id": "18a3582f"
   },
   "source": [
    "Run a prediction on a new sentence:\n",
    "\n",
    "If the prediction is >= 0.0, it is positive else it is negative."
   ]
  },
  {
   "cell_type": "code",
   "execution_count": null,
   "id": "64a5bfb5",
   "metadata": {
    "id": "64a5bfb5",
    "outputId": "66a9305a-0c1f-49a3-d5d7-8c9be0aabc14"
   },
   "outputs": [
    {
     "name": "stdout",
     "output_type": "stream",
     "text": [
      "1/1 [==============================] - 1s 1s/step\n"
     ]
    }
   ],
   "source": [
    "sample_text = ('The movie was cool. The animation and the graphics '\n",
    "               'were out of this world. I would recommend this movie.')\n",
    "predictions = model.predict(np.array([sample_text]))"
   ]
  },
  {
   "cell_type": "markdown",
   "id": "23ab59a6",
   "metadata": {
    "id": "23ab59a6"
   },
   "source": [
    "#### Stack two or more LSTM layers\n",
    "\n",
    "Keras recurrent layers have two available modes that are controlled by the `return_sequences` constructor argument:\n",
    "\n",
    "* If `False` it returns only the last output for each input sequence (a 2D tensor of shape (batch_size, output_features)). This is the default, used in the previous model.\n",
    "\n",
    "* If `True` the full sequences of successive outputs for each timestep is returned (a 3D tensor of shape `(batch_size, timesteps, output_features)`).\n",
    "\n",
    "Here is what the flow of information looks like with `return_sequences=True`:\n",
    "\n",
    "![layered_bidirectional](layered_bidirectional.png)\n"
   ]
  },
  {
   "cell_type": "code",
   "execution_count": null,
   "id": "de398074",
   "metadata": {
    "id": "de398074"
   },
   "outputs": [],
   "source": [
    "model = tf.keras.Sequential([\n",
    "    encoder,\n",
    "    tf.keras.layers.Embedding(len(encoder.get_vocabulary()), 64, mask_zero=True),\n",
    "    tf.keras.layers.Bidirectional(tf.keras.layers.LSTM(64,  return_sequences=True)),\n",
    "    tf.keras.layers.Bidirectional(tf.keras.layers.LSTM(32)),\n",
    "    tf.keras.layers.Dense(64, activation='relu'),\n",
    "    tf.keras.layers.Dropout(0.5),\n",
    "    tf.keras.layers.Dense(1)\n",
    "])"
   ]
  },
  {
   "cell_type": "code",
   "execution_count": null,
   "id": "0f331266",
   "metadata": {
    "id": "0f331266"
   },
   "outputs": [],
   "source": [
    "model.compile(loss=tf.keras.losses.BinaryCrossentropy(from_logits=True),\n",
    "              optimizer=tf.keras.optimizers.Adam(1e-4),\n",
    "              metrics=['accuracy'])"
   ]
  },
  {
   "cell_type": "code",
   "execution_count": null,
   "id": "f267a626",
   "metadata": {
    "id": "f267a626",
    "outputId": "c2798b8e-ef52-4ddc-da4c-9562611a04a8"
   },
   "outputs": [
    {
     "name": "stdout",
     "output_type": "stream",
     "text": [
      "Epoch 1/10\n",
      "391/391 [==============================] - 338s 846ms/step - loss: 0.6229 - accuracy: 0.5910 - val_loss: 0.4381 - val_accuracy: 0.8047\n",
      "Epoch 2/10\n",
      "391/391 [==============================] - 329s 840ms/step - loss: 0.3983 - accuracy: 0.8221 - val_loss: 0.3613 - val_accuracy: 0.8344\n",
      "Epoch 3/10\n",
      "391/391 [==============================] - 322s 823ms/step - loss: 0.3364 - accuracy: 0.8532 - val_loss: 0.3381 - val_accuracy: 0.8484\n",
      "Epoch 4/10\n",
      "391/391 [==============================] - 322s 825ms/step - loss: 0.3214 - accuracy: 0.8628 - val_loss: 0.3282 - val_accuracy: 0.8589\n",
      "Epoch 5/10\n",
      "391/391 [==============================] - 325s 832ms/step - loss: 0.3111 - accuracy: 0.8665 - val_loss: 0.3346 - val_accuracy: 0.8620\n",
      "Epoch 6/10\n",
      "391/391 [==============================] - 311s 794ms/step - loss: 0.3065 - accuracy: 0.8688 - val_loss: 0.3201 - val_accuracy: 0.8536\n",
      "Epoch 7/10\n",
      "391/391 [==============================] - 616s 2s/step - loss: 0.3020 - accuracy: 0.8691 - val_loss: 0.3209 - val_accuracy: 0.8615\n",
      "Epoch 8/10\n",
      "391/391 [==============================] - 1480s 4s/step - loss: 0.2998 - accuracy: 0.8709 - val_loss: 0.3232 - val_accuracy: 0.8609\n",
      "Epoch 9/10\n",
      "391/391 [==============================] - 320s 815ms/step - loss: 0.2964 - accuracy: 0.8726 - val_loss: 0.3210 - val_accuracy: 0.8521\n",
      "Epoch 10/10\n",
      "391/391 [==============================] - 316s 809ms/step - loss: 0.2924 - accuracy: 0.8711 - val_loss: 0.3229 - val_accuracy: 0.8448\n"
     ]
    }
   ],
   "source": [
    "history = model.fit(train_dataset, epochs=2,\n",
    "                    validation_data=test_dataset,\n",
    "                    validation_steps=30)"
   ]
  },
  {
   "cell_type": "code",
   "execution_count": null,
   "id": "9baa48a4",
   "metadata": {
    "id": "9baa48a4",
    "outputId": "c2e29e64-a90e-46d5-96ad-5e1bfdc6f9cc"
   },
   "outputs": [
    {
     "name": "stdout",
     "output_type": "stream",
     "text": [
      "391/391 [==============================] - 93s 239ms/step - loss: 0.3221 - accuracy: 0.8460\n",
      "Test Loss: 0.32205188274383545\n",
      "Test Accuracy: 0.8460400104522705\n"
     ]
    }
   ],
   "source": [
    "test_loss, test_acc = model.evaluate(test_dataset)\n",
    "\n",
    "print('Test Loss:', test_loss)\n",
    "print('Test Accuracy:', test_acc)"
   ]
  },
  {
   "cell_type": "code",
   "execution_count": null,
   "id": "49bf359b",
   "metadata": {
    "id": "49bf359b",
    "outputId": "f16b7c51-70af-4f3b-afdc-5cd31f4bdf0a"
   },
   "outputs": [
    {
     "name": "stdout",
     "output_type": "stream",
     "text": [
      "1/1 [==============================] - 3s 3s/step\n",
      "[[-1.9129493]]\n"
     ]
    }
   ],
   "source": [
    "# predict on a sample text without padding.\n",
    "\n",
    "sample_text = ('The movie was not good. The animation and the graphics '\n",
    "               'were terrible. I would not recommend this movie.')\n",
    "predictions = model.predict(np.array([sample_text]))\n",
    "print(predictions)"
   ]
  },
  {
   "cell_type": "code",
   "execution_count": null,
   "id": "a73e9f6f",
   "metadata": {
    "id": "a73e9f6f",
    "outputId": "bae2360a-6911-4919-9a90-003f672e573b"
   },
   "outputs": [
    {
     "data": {
      "image/png": "[encoded data removed]",
      "text/plain": [
       "<Figure size 1600x600 with 2 Axes>"
      ]
     },
     "metadata": {},
     "output_type": "display_data"
    }
   ],
   "source": [
    "plt.figure(figsize=(16, 6))\n",
    "plt.subplot(1, 2, 1)\n",
    "plot_graphs(history, 'accuracy')\n",
    "plt.subplot(1, 2, 2)\n",
    "plot_graphs(history, 'loss')"
   ]
  },
  {
   "cell_type": "markdown",
   "id": "6151462a",
   "metadata": {
    "id": "6151462a"
   },
   "source": [
    "### Recurrent Neural Network 2\n",
    "\n",
    "#### RNN Play Generator"
   ]
  },
  {
   "cell_type": "markdown",
   "id": "693507ac",
   "metadata": {
    "id": "693507ac"
   },
   "source": [
    "This tutorial demonstrates how to generate text using a character-based RNN. You will work with a dataset of Shakespeare's writing from Andrej Karpathy's [The Unreasonable Effectiveness of Recurrent Neural Networks](http://karpathy.github.io/2015/05/21/rnn-effectiveness/). Given a sequence of characters from this data (\"Shakespear\"), train a model to predict the next character in the sequence (\"e\"). Longer sequences of text can be generated by calling the model repeatedly.\n",
    "\n",
    "Note: Enable GPU acceleration to execute this notebook faster. In Colab: *Runtime > Change runtime type > Hardware accelerator > GPU*.\n",
    "\n",
    "This tutorial includes runnable code implemented using [tf.keras](https://www.tensorflow.org/guide/keras/sequential_model) and [eager execution](https://www.tensorflow.org/guide/eager). The following is the sample output when the model in this tutorial trained for 30 epochs, and started with the prompt \"Q\":"
   ]
  },
  {
   "cell_type": "markdown",
   "id": "3e5d3834",
   "metadata": {
    "id": "3e5d3834"
   },
   "source": [
    "<pre>\n",
    "QUEENE:\n",
    "I had thought thou hadst a Roman; for the oracle,\n",
    "Thus by All bids the man against the word,\n",
    "Which are so weak of care, by old care done;\n",
    "Your children were in your holy love,\n",
    "And the precipitation through the bleeding throne.\n",
    "\n",
    "BISHOP OF ELY:\n",
    "Marry, and will, my lord, to weep in such a one were prettiest;\n",
    "Yet now I was adopted heir\n",
    "Of the world's lamentable day,\n",
    "To watch the next way with his father with his face?\n",
    "\n",
    "ESCALUS:\n",
    "The cause why then we are all resolved more sons.\n",
    "\n",
    "VOLUMNIA:\n",
    "O, no, no, no, no, no, no, no, no, no, no, no, no, no, no, no, no, no, no, no, no, it is no sin it should be dead,\n",
    "And love and pale as any will to that word.\n",
    "\n",
    "QUEEN ELIZABETH:\n",
    "But how long have I heard the soul for this world,\n",
    "And show his hands of life be proved to stand.\n",
    "\n",
    "PETRUCHIO:\n",
    "I say he look'd on, if I must be content\n",
    "To stay him from the fatal of our country's bliss.\n",
    "His lordship pluck'd from this sentence then for prey,\n",
    "And then let us twain, being the moon,\n",
    "were she such a case as fills m\n",
    "</pre>"
   ]
  },
  {
   "cell_type": "markdown",
   "id": "aa51aa1c",
   "metadata": {
    "id": "aa51aa1c"
   },
   "source": [
    "While some of the sentences are grammatical, most do not make sense. The model has not learned the meaning of words, but consider:\n",
    "\n",
    "* The model is character-based. When training started, the model did not know how to spell an English word, or that words were even a unit of text.\n",
    "\n",
    "* The structure of the output resembles a play—blocks of text generally begin with a speaker name, in all capital letters similar to the dataset.\n",
    "\n",
    "* As demonstrated below, the model is trained on small batches of text (100 characters each), and is still able to generate a longer sequence of text with coherent structure."
   ]
  },
  {
   "cell_type": "markdown",
   "id": "2ae49a97",
   "metadata": {
    "id": "2ae49a97"
   },
   "source": [
    "#### Import/ Dataset"
   ]
  },
  {
   "cell_type": "code",
   "execution_count": 2,
   "id": "5e69262f",
   "metadata": {
    "id": "5e69262f"
   },
   "outputs": [],
   "source": [
    "import tensorflow as tf\n",
    "\n",
    "import numpy as np\n",
    "import os\n",
    "import time"
   ]
  },
  {
   "cell_type": "code",
   "execution_count": 3,
   "id": "60ee8577",
   "metadata": {
    "colab": {
     "base_uri": "https://localhost:8080/"
    },
    "id": "60ee8577",
    "outputId": "168ac167-2b7d-41f1-ca67-e61ee4321100"
   },
   "outputs": [
    {
     "name": "stdout",
     "output_type": "stream",
     "text": [
      "Downloading data from https://storage.googleapis.com/download.tensorflow.org/data/shakespeare.txt\n",
      "1115394/1115394 [==============================] - 1s 1us/step\n"
     ]
    }
   ],
   "source": [
    "path_to_file = tf.keras.utils.get_file('shakespeare.txt', 'https://storage.googleapis.com/download.tensorflow.org/data/shakespeare.txt')"
   ]
  },
  {
   "cell_type": "markdown",
   "id": "50ae91a5",
   "metadata": {
    "id": "50ae91a5"
   },
   "source": [
    "#### Read Data"
   ]
  },
  {
   "cell_type": "code",
   "execution_count": 4,
   "id": "fcc736c3",
   "metadata": {
    "colab": {
     "base_uri": "https://localhost:8080/"
    },
    "id": "fcc736c3",
    "outputId": "7e772536-6dde-43f6-a364-7e61542f5e73"
   },
   "outputs": [
    {
     "name": "stdout",
     "output_type": "stream",
     "text": [
      "Length of text: 1115394 characters\n"
     ]
    }
   ],
   "source": [
    "# Read, then decode for py2 compat.\n",
    "text = open(path_to_file, 'rb').read().decode(encoding='utf-8')\n",
    "# length of text is the number of characters in it\n",
    "print(f'Length of text: {len(text)} characters')"
   ]
  },
  {
   "cell_type": "code",
   "execution_count": 5,
   "id": "961e598c",
   "metadata": {
    "colab": {
     "base_uri": "https://localhost:8080/"
    },
    "id": "961e598c",
    "outputId": "fb5caf3b-8c0f-4a60-d1b3-322184c73738"
   },
   "outputs": [
    {
     "name": "stdout",
     "output_type": "stream",
     "text": [
      "First Citizen:\n",
      "Before we proceed any further, hear me speak.\n",
      "\n",
      "All:\n",
      "Speak, speak.\n",
      "\n",
      "First Citizen:\n",
      "You are all resolved rather to die than to famish?\n",
      "\n",
      "All:\n",
      "Resolved. resolved.\n",
      "\n",
      "First Citizen:\n",
      "First, you know Caius Marcius is chief enemy to the people.\n",
      "\n"
     ]
    }
   ],
   "source": [
    "# Take a look at the first 250 characters in text\n",
    "print(text[:250])"
   ]
  },
  {
   "cell_type": "markdown",
   "id": "e5b9fab3",
   "metadata": {
    "id": "e5b9fab3"
   },
   "source": [
    "#### Encoding\n",
    "\n",
    "We are going to encode each unique character as a different integer"
   ]
  },
  {
   "cell_type": "code",
   "execution_count": 6,
   "id": "7f54c051",
   "metadata": {
    "id": "7f54c051"
   },
   "outputs": [],
   "source": [
    "vocab = sorted(set(text))\n",
    "# Creating a mapping from unique characters to indices\n",
    "char2idx = {u:i for i, u in enumerate(vocab)}\n",
    "idx2char = np.array(vocab)\n",
    "\n",
    "def text_to_int(text):\n",
    "  return np.array([char2idx[c] for c in text])\n",
    "\n",
    "text_as_int = text_to_int(text)"
   ]
  },
  {
   "cell_type": "code",
   "execution_count": 7,
   "id": "fe5427a8",
   "metadata": {
    "colab": {
     "base_uri": "https://localhost:8080/"
    },
    "id": "fe5427a8",
    "outputId": "5184eb97-02d3-42d3-d5d7-fa9415a461c5"
   },
   "outputs": [
    {
     "name": "stdout",
     "output_type": "stream",
     "text": [
      "Text: First Citizen\n",
      "Encoded: [18 47 56 57 58  1 15 47 58 47 64 43 52]\n"
     ]
    }
   ],
   "source": [
    "# lets look at how part of our text is encoded\n",
    "print(\"Text:\", text[:13])\n",
    "print(\"Encoded:\", text_to_int(text[:13]))"
   ]
  },
  {
   "cell_type": "markdown",
   "id": "82bce62d",
   "metadata": {
    "id": "82bce62d"
   },
   "source": [
    "And here we will make a function that can convert our numeric values to text.\n"
   ]
  },
  {
   "cell_type": "code",
   "execution_count": 8,
   "id": "173d8d5a",
   "metadata": {
    "colab": {
     "base_uri": "https://localhost:8080/"
    },
    "id": "173d8d5a",
    "outputId": "9a275a55-2152-4f3e-8399-7d5a96fc5c1d"
   },
   "outputs": [
    {
     "name": "stdout",
     "output_type": "stream",
     "text": [
      "First Citizen\n"
     ]
    }
   ],
   "source": [
    "def int_to_text(ints):\n",
    "  try:\n",
    "    ints = ints.numpy()\n",
    "  except:\n",
    "    pass\n",
    "  return ''.join(idx2char[ints])\n",
    "\n",
    "print(int_to_text(text_as_int[:13]))"
   ]
  },
  {
   "cell_type": "markdown",
   "id": "53335d68",
   "metadata": {
    "id": "53335d68"
   },
   "source": [
    "#### Creating Training Examples\n",
    "Remember our task is to feed the model a sequence and have it return to us the next character. This means we need to split our text data from above into many shorter sequences that we can pass to the model as training examples. \n",
    "\n",
    "The training examples we will prepapre will use a *seq_length* sequence as input and a *seq_length* sequence as the output where that sequence is the original sequence shifted one letter to the right. For example:\n",
    "\n",
    "```input: Hell | output: ello```\n",
    "\n",
    "Our first step will be to create a stream of characters from our text data."
   ]
  },
  {
   "cell_type": "code",
   "execution_count": 9,
   "id": "28e12ccc",
   "metadata": {
    "id": "28e12ccc"
   },
   "outputs": [],
   "source": [
    "seq_length = 100  # length of sequence for a training example\n",
    "examples_per_epoch = len(text)//(seq_length+1)\n",
    "\n",
    "# Create training examples / targets\n",
    "char_dataset = tf.data.Dataset.from_tensor_slices(text_as_int)"
   ]
  },
  {
   "cell_type": "markdown",
   "id": "721ce797",
   "metadata": {
    "id": "721ce797"
   },
   "source": [
    "Next we can use the batch method to turn this stream of characters into batches of desired length."
   ]
  },
  {
   "cell_type": "code",
   "execution_count": 10,
   "id": "19a66bed",
   "metadata": {
    "id": "19a66bed"
   },
   "outputs": [],
   "source": [
    "sequences = char_dataset.batch(seq_length+1, drop_remainder=True)"
   ]
  },
  {
   "cell_type": "markdown",
   "id": "dbc4cea1",
   "metadata": {
    "id": "dbc4cea1"
   },
   "source": [
    "Now we need to use these sequences of length 101 and split them into input and output."
   ]
  },
  {
   "cell_type": "code",
   "execution_count": 11,
   "id": "3ecf5fe1",
   "metadata": {
    "id": "3ecf5fe1"
   },
   "outputs": [],
   "source": [
    "def split_input_target(chunk):  # for the example: hello\n",
    "    input_text = chunk[:-1]  # hell\n",
    "    target_text = chunk[1:]  # ello\n",
    "    return input_text, target_text  # hell, ello\n",
    "\n",
    "dataset = sequences.map(split_input_target)  # we use map to apply the above function to every entry"
   ]
  },
  {
   "cell_type": "code",
   "execution_count": 12,
   "id": "494112c7",
   "metadata": {
    "colab": {
     "base_uri": "https://localhost:8080/"
    },
    "id": "494112c7",
    "outputId": "913d5788-3199-4060-8448-9e6f6a527f1e"
   },
   "outputs": [
    {
     "name": "stdout",
     "output_type": "stream",
     "text": [
      "\n",
      "\n",
      "EXAMPLE\n",
      "\n",
      "INPUT\n",
      "First Citizen:\n",
      "Before we proceed any further, hear me speak.\n",
      "\n",
      "All:\n",
      "Speak, speak.\n",
      "\n",
      "First Citizen:\n",
      "You\n",
      "\n",
      "OUTPUT\n",
      "irst Citizen:\n",
      "Before we proceed any further, hear me speak.\n",
      "\n",
      "All:\n",
      "Speak, speak.\n",
      "\n",
      "First Citizen:\n",
      "You \n",
      "\n",
      "\n",
      "EXAMPLE\n",
      "\n",
      "INPUT\n",
      "are all resolved rather to die than to famish?\n",
      "\n",
      "All:\n",
      "Resolved. resolved.\n",
      "\n",
      "First Citizen:\n",
      "First, you \n",
      "\n",
      "OUTPUT\n",
      "re all resolved rather to die than to famish?\n",
      "\n",
      "All:\n",
      "Resolved. resolved.\n",
      "\n",
      "First Citizen:\n",
      "First, you k\n"
     ]
    }
   ],
   "source": [
    "for x, y in dataset.take(2):\n",
    "  print(\"\\n\\nEXAMPLE\\n\")\n",
    "  print(\"INPUT\")\n",
    "  print(int_to_text(x))\n",
    "  print(\"\\nOUTPUT\")\n",
    "  print(int_to_text(y))"
   ]
  },
  {
   "cell_type": "markdown",
   "id": "99f06f56",
   "metadata": {
    "id": "99f06f56"
   },
   "source": [
    "Finally we need to make training batches."
   ]
  },
  {
   "cell_type": "code",
   "execution_count": 13,
   "id": "d39f1db7",
   "metadata": {
    "id": "d39f1db7"
   },
   "outputs": [],
   "source": [
    "BATCH_SIZE = 64\n",
    "VOCAB_SIZE = len(vocab)  # vocab is number of unique characters\n",
    "EMBEDDING_DIM = 256\n",
    "RNN_UNITS = 1024\n",
    "\n",
    "# Buffer size to shuffle the dataset\n",
    "# (TF data is designed to work with possibly infinite sequences,\n",
    "# so it doesn't attempt to shuffle the entire sequence in memory. Instead,\n",
    "# it maintains a buffer in which it shuffles elements).\n",
    "BUFFER_SIZE = 10000\n",
    "\n",
    "data = dataset.shuffle(BUFFER_SIZE).batch(BATCH_SIZE, drop_remainder=True)"
   ]
  },
  {
   "cell_type": "markdown",
   "id": "80a132c4",
   "metadata": {
    "id": "80a132c4"
   },
   "source": [
    "#### Building the Model\n",
    "\n",
    "Now it is time to build the model. We will use an embedding layer a LSTM and one dense layer that contains a node for each unique character in our training data. The dense layer will give us a probability distribution over all nodes."
   ]
  },
  {
   "cell_type": "code",
   "execution_count": 14,
   "id": "9791e7a7",
   "metadata": {
    "colab": {
     "base_uri": "https://localhost:8080/"
    },
    "id": "9791e7a7",
    "outputId": "693af801-adb6-4d47-9eed-1a0f5ff67aa4"
   },
   "outputs": [
    {
     "name": "stdout",
     "output_type": "stream",
     "text": [
      "Model: \"sequential\"\n",
      "_________________________________________________________________\n",
      " Layer (type)                Output Shape              Param #   \n",
      "=================================================================\n",
      " embedding (Embedding)       (64, None, 256)           16640     \n",
      "                                                                 \n",
      " lstm (LSTM)                 (64, None, 1024)          5246976   \n",
      "                                                                 \n",
      " dense (Dense)               (64, None, 65)            66625     \n",
      "                                                                 \n",
      "=================================================================\n",
      "Total params: 5,330,241\n",
      "Trainable params: 5,330,241\n",
      "Non-trainable params: 0\n",
      "_________________________________________________________________\n"
     ]
    }
   ],
   "source": [
    "def build_model(vocab_size, embedding_dim, rnn_units, batch_size):\n",
    "  model = tf.keras.Sequential([\n",
    "    tf.keras.layers.Embedding(vocab_size, embedding_dim,\n",
    "                              batch_input_shape=[batch_size, None]),\n",
    "    tf.keras.layers.LSTM(rnn_units,\n",
    "                        return_sequences=True,\n",
    "                        stateful=True,\n",
    "                        recurrent_initializer='glorot_uniform'),\n",
    "    tf.keras.layers.Dense(vocab_size)\n",
    "  ])\n",
    "  return model\n",
    "\n",
    "model = build_model(VOCAB_SIZE,EMBEDDING_DIM, RNN_UNITS, BATCH_SIZE)\n",
    "model.summary()"
   ]
  },
  {
   "cell_type": "markdown",
   "id": "c8bd5f60",
   "metadata": {
    "id": "c8bd5f60"
   },
   "source": [
    "#### Creating a Loss Function\n",
    "Now we are going to create our own loss function for this problem. This is because our model will output a (64, sequence_length, 65) shaped tensor that represents the probability distribution of each character at each timestep for every sequence in the batch. \n"
   ]
  },
  {
   "cell_type": "code",
   "execution_count": 15,
   "id": "e2f0dff7",
   "metadata": {
    "colab": {
     "base_uri": "https://localhost:8080/"
    },
    "id": "e2f0dff7",
    "outputId": "ab3daf38-7987-4a69-fe3e-ca0366abd93a"
   },
   "outputs": [
    {
     "name": "stdout",
     "output_type": "stream",
     "text": [
      "(64, 100, 65) # (batch_size, sequence_length, vocab_size)\n"
     ]
    }
   ],
   "source": [
    "for input_example_batch, target_example_batch in data.take(1):\n",
    "  example_batch_predictions = model(input_example_batch)  # ask our model for a prediction on our first batch of training data (64 entries)\n",
    "  print(example_batch_predictions.shape, \"# (batch_size, sequence_length, vocab_size)\")  # print out the output shape"
   ]
  },
  {
   "cell_type": "code",
   "execution_count": 16,
   "id": "2aab4dca",
   "metadata": {
    "colab": {
     "base_uri": "https://localhost:8080/"
    },
    "collapsed": true,
    "id": "2aab4dca",
    "outputId": "a07ac9fa-a0ea-4f2c-eeef-27bab839bd61"
   },
   "outputs": [
    {
     "name": "stdout",
     "output_type": "stream",
     "text": [
      "64\n",
      "tf.Tensor(\n",
      "[[[ 3.98045871e-03 -4.58885171e-03  4.61864332e-03 ... -1.02732948e-03\n",
      "   -4.60791867e-03  2.02289969e-03]\n",
      "  [-7.98046822e-05 -3.71021521e-03  8.77339207e-03 ... -6.65799016e-04\n",
      "   -5.52078651e-04  5.61633985e-03]\n",
      "  [-2.38948828e-03 -6.93524349e-03  8.40872899e-03 ... -3.52318911e-03\n",
      "    4.54840669e-03  7.96181848e-04]\n",
      "  ...\n",
      "  [ 4.08200640e-03 -3.86140565e-03 -2.75661005e-03 ...  8.17332696e-03\n",
      "   -1.56212132e-03  1.71680236e-03]\n",
      "  [ 1.41169317e-03 -3.86792608e-03  3.84084694e-03 ...  7.78932683e-03\n",
      "    1.36527047e-03  5.44385053e-03]\n",
      "  [-4.04535420e-03 -1.51988422e-03  9.35811549e-05 ...  6.13624975e-03\n",
      "   -1.64250750e-03  4.96495003e-03]]\n",
      "\n",
      " [[-2.12614168e-03  4.08605207e-04 -2.44634948e-03 ... -2.63780775e-03\n",
      "    1.56441366e-03  4.73235734e-04]\n",
      "  [ 3.60978232e-03 -1.56092620e-03  8.32511927e-04 ... -5.27932495e-03\n",
      "    9.09621641e-03  3.95157700e-03]\n",
      "  [ 6.54724776e-04 -9.32949595e-04  4.70205024e-03 ... -2.51764944e-03\n",
      "    9.83949751e-03  5.98192727e-03]\n",
      "  ...\n",
      "  [ 2.63026287e-03 -5.81698585e-03  1.71375694e-03 ... -4.53612860e-03\n",
      "    9.94365849e-03  2.99613876e-03]\n",
      "  [-1.56416558e-04 -5.57698496e-03  8.55710357e-04 ... -4.47390554e-03\n",
      "    7.73264747e-03  1.73999416e-03]\n",
      "  [ 2.72037135e-03 -4.90037119e-03  9.38002719e-04 ...  2.29937281e-03\n",
      "    5.04223350e-03 -3.04763857e-03]]\n",
      "\n",
      " [[-9.00943996e-04 -3.25821619e-03 -1.28660200e-03 ... -1.64503558e-03\n",
      "    4.29307716e-03  6.72624214e-03]\n",
      "  [-4.21561440e-03 -2.13759299e-03  2.92111980e-03 ... -2.67424271e-04\n",
      "   -2.89104367e-03  2.92556221e-03]\n",
      "  [-3.37880850e-03 -4.92155086e-03  5.19085024e-03 ... -2.26958189e-03\n",
      "    1.95169263e-03 -8.17915192e-04]\n",
      "  ...\n",
      "  [ 1.29937730e-03  6.57209381e-03  4.63806465e-03 ... -6.40027318e-03\n",
      "    5.02704177e-04  4.53655049e-03]\n",
      "  [ 4.37378278e-03  1.34257916e-02  6.29616342e-03 ... -2.30458751e-03\n",
      "    7.64915347e-03  1.26053067e-03]\n",
      "  [ 3.20254173e-03  6.41316175e-03  2.94347201e-03 ... -2.59132055e-03\n",
      "    1.02234241e-02  7.30393687e-03]]\n",
      "\n",
      " ...\n",
      "\n",
      " [[ 5.58237545e-03 -2.46361480e-03  3.60019272e-03 ... -3.12223868e-03\n",
      "    7.44675100e-03  3.75396246e-03]\n",
      "  [ 3.52313579e-03 -4.53582779e-03  5.37869195e-03 ... -3.82465473e-03\n",
      "    1.00174407e-02 -8.04286799e-04]\n",
      "  [ 7.37938052e-03 -8.37905519e-03  4.46820166e-03 ... -5.00690378e-03\n",
      "    5.45682199e-03  7.01558916e-03]\n",
      "  ...\n",
      "  [-3.70737142e-03  3.32978740e-03  1.38809551e-02 ... -1.65796024e-03\n",
      "    5.57649834e-03  6.03376771e-04]\n",
      "  [-2.26357719e-03 -1.88484730e-03  1.10376319e-02 ... -4.85386513e-03\n",
      "    1.27589819e-03 -1.43276807e-03]\n",
      "  [-2.62138923e-03 -2.36943411e-03  1.44853983e-02 ... -3.38388677e-03\n",
      "    4.48853197e-03  3.52261867e-03]]\n",
      "\n",
      " [[-2.12614168e-03  4.08605207e-04 -2.44634948e-03 ... -2.63780775e-03\n",
      "    1.56441366e-03  4.73235734e-04]\n",
      "  [ 3.60978232e-03 -1.56092620e-03  8.32511927e-04 ... -5.27932495e-03\n",
      "    9.09621641e-03  3.95157700e-03]\n",
      "  [-1.25807291e-03 -5.63740032e-04  4.17520106e-03 ... -2.97925854e-03\n",
      "    1.27597209e-02  7.07454840e-03]\n",
      "  ...\n",
      "  [-5.37281204e-03 -2.58144457e-04  1.01904047e-03 ... -5.89642674e-03\n",
      "    5.05312206e-03  8.77572037e-03]\n",
      "  [-4.21347376e-03  4.47171042e-04 -4.42291610e-04 ... -4.49765846e-03\n",
      "   -1.40781654e-03  5.25627891e-03]\n",
      "  [-5.20393299e-03 -2.77695409e-03 -2.81843683e-03 ... -5.94407972e-03\n",
      "    3.36771924e-03  1.02274595e-02]]\n",
      "\n",
      " [[-3.78663093e-03  1.51624146e-04  4.65346500e-03 ...  3.73229734e-04\n",
      "    5.94392652e-03  5.02260681e-03]\n",
      "  [ 3.39622307e-03 -2.36462383e-03  6.55967882e-03 ... -3.12339189e-03\n",
      "    1.22279106e-02  7.64031615e-03]\n",
      "  [ 1.28426473e-03 -1.91657164e-03  9.24630091e-03 ... -1.18067954e-03\n",
      "    1.20035615e-02  8.86254571e-03]\n",
      "  ...\n",
      "  [-2.03329185e-03  3.17341159e-03 -4.45266813e-03 ... -3.02722631e-03\n",
      "    9.79537610e-04  3.24462727e-03]\n",
      "  [ 3.59508395e-03 -1.72984996e-03  1.68110244e-03 ... -5.00453450e-03\n",
      "   -4.57923766e-03  3.58112622e-03]\n",
      "  [ 2.25097057e-03 -2.97021586e-03 -1.33862835e-03 ... -9.54517629e-04\n",
      "   -7.24161603e-03  9.98596195e-04]]], shape=(64, 100, 65), dtype=float32)\n"
     ]
    }
   ],
   "source": [
    "# we can see that the prediction is an array of 64 arrays, one for each entry in the batch\n",
    "print(len(example_batch_predictions))\n",
    "print(example_batch_predictions)"
   ]
  },
  {
   "cell_type": "code",
   "execution_count": 17,
   "id": "ec6948a0",
   "metadata": {
    "colab": {
     "base_uri": "https://localhost:8080/"
    },
    "collapsed": true,
    "id": "ec6948a0",
    "outputId": "26469abe-6367-4f2c-dde9-ac0bcb674408"
   },
   "outputs": [
    {
     "name": "stdout",
     "output_type": "stream",
     "text": [
      "100\n",
      "tf.Tensor(\n",
      "[[ 3.9804587e-03 -4.5888517e-03  4.6186433e-03 ... -1.0273295e-03\n",
      "  -4.6079187e-03  2.0228997e-03]\n",
      " [-7.9804682e-05 -3.7102152e-03  8.7733921e-03 ... -6.6579902e-04\n",
      "  -5.5207865e-04  5.6163399e-03]\n",
      " [-2.3894883e-03 -6.9352435e-03  8.4087290e-03 ... -3.5231891e-03\n",
      "   4.5484067e-03  7.9618185e-04]\n",
      " ...\n",
      " [ 4.0820064e-03 -3.8614057e-03 -2.7566100e-03 ...  8.1733270e-03\n",
      "  -1.5621213e-03  1.7168024e-03]\n",
      " [ 1.4116932e-03 -3.8679261e-03  3.8408469e-03 ...  7.7893268e-03\n",
      "   1.3652705e-03  5.4438505e-03]\n",
      " [-4.0453542e-03 -1.5198842e-03  9.3581155e-05 ...  6.1362498e-03\n",
      "  -1.6425075e-03  4.9649500e-03]], shape=(100, 65), dtype=float32)\n"
     ]
    }
   ],
   "source": [
    "# lets examine one prediction\n",
    "pred = example_batch_predictions[0]\n",
    "print(len(pred))\n",
    "print(pred)\n",
    "# notice this is a 2d array of length 100, where each interior array is the prediction for the next character at each time step"
   ]
  },
  {
   "cell_type": "code",
   "execution_count": 20,
   "id": "86858893",
   "metadata": {
    "colab": {
     "base_uri": "https://localhost:8080/"
    },
    "id": "86858893",
    "outputId": "83e29128-3707-4d1e-b2ef-fac7f514d9dd"
   },
   "outputs": [
    {
     "name": "stdout",
     "output_type": "stream",
     "text": [
      "65\n",
      "tf.Tensor(\n",
      "[ 3.9804587e-03 -4.5888517e-03  4.6186433e-03 -8.5350237e-04\n",
      " -3.7942221e-03 -4.6155155e-03  2.7721666e-03  6.0326885e-03\n",
      " -6.7420711e-04 -2.9793452e-03  3.0180132e-03  1.9873118e-03\n",
      " -7.7979662e-04 -3.6044039e-03  2.6866379e-03 -5.8588159e-04\n",
      " -5.3637028e-03 -1.6081287e-03  1.3349409e-04  2.2201780e-03\n",
      "  5.3778514e-03 -1.2404101e-03  6.0116746e-03  5.3896988e-04\n",
      "  2.8178282e-03  5.5262749e-03  3.7018396e-04  2.0367892e-03\n",
      "  6.5533323e-03 -1.4344903e-03  3.1838173e-03 -3.2953289e-03\n",
      " -2.8133534e-03 -4.0065059e-03  4.1478598e-03 -6.5823330e-04\n",
      " -7.9169376e-03  6.7690602e-03 -5.2203052e-03 -6.3041097e-04\n",
      "  1.0593563e-03  1.0622777e-03 -7.9720737e-03  3.4536128e-03\n",
      " -2.3069326e-05 -3.9423634e-03  4.0332228e-03 -3.6859864e-04\n",
      "  2.4110370e-04 -5.2827103e-03 -7.1283407e-04  4.2788694e-03\n",
      " -2.2199232e-04 -3.2025687e-03 -5.0535984e-04  4.6834908e-04\n",
      " -5.2172260e-04 -9.9507906e-04 -2.5191261e-03  5.1487854e-04\n",
      "  2.7725566e-03 -5.0921645e-04 -1.0273295e-03 -4.6079187e-03\n",
      "  2.0228997e-03], shape=(65,), dtype=float32)\n"
     ]
    }
   ],
   "source": [
    "# and finally well look at a prediction at the first timestep\n",
    "time_pred = pred[0]\n",
    "print(len(time_pred))\n",
    "print(time_pred)\n",
    "# and of course its 65 values representing the probabillity of each character occuring next"
   ]
  },
  {
   "cell_type": "code",
   "execution_count": 21,
   "id": "d0e02e4d",
   "metadata": {
    "colab": {
     "base_uri": "https://localhost:8080/",
     "height": 37
    },
    "id": "d0e02e4d",
    "outputId": "b46548a7-3f8c-45c3-bdf2-558045ab0445",
    "scrolled": false
   },
   "outputs": [
    {
     "data": {
      "application/vnd.google.colaboratory.intrinsic+json": {
       "type": "string"
      },
      "text/plain": [
       "\"FFCTrjG&mqSVzxXQxdTE.gOloT,q&KoMt3tdtIJk'-jm&ggHLGdUtaGA;tz\\nF\\n;v.zI,oKQMWUg\\nrCqJYYuXEnciV'U,MbbsgPb \""
      ]
     },
     "execution_count": 21,
     "metadata": {},
     "output_type": "execute_result"
    }
   ],
   "source": [
    "# If we want to determine the predicted character we need to sample the output distribution (pick a value based on probabillity)\n",
    "sampled_indices = tf.random.categorical(pred, num_samples=1)\n",
    "\n",
    "# now we can reshape that array and convert all the integers to numbers to see the actual characters\n",
    "sampled_indices = np.reshape(sampled_indices, (1, -1))[0]\n",
    "predicted_chars = int_to_text(sampled_indices)\n",
    "\n",
    "predicted_chars  # and this is what the model predicted for training sequence 1"
   ]
  },
  {
   "cell_type": "markdown",
   "id": "5f714acb",
   "metadata": {
    "id": "5f714acb"
   },
   "source": [
    "So now we need to create a loss function that can compare that output to the expected output and give us some numeric value representing how close the two were."
   ]
  },
  {
   "cell_type": "code",
   "execution_count": 22,
   "id": "c5c77379",
   "metadata": {
    "id": "c5c77379"
   },
   "outputs": [],
   "source": [
    "def loss(labels, logits):\n",
    "  return tf.keras.losses.sparse_categorical_crossentropy(labels, logits, from_logits=True)"
   ]
  },
  {
   "cell_type": "markdown",
   "id": "2afc06ab",
   "metadata": {
    "id": "2afc06ab"
   },
   "source": [
    "#### Compiling The Model\n",
    "\n",
    "At this point we can think of our problem as a classification problem where the model predicts the probabillity of each unique letter coming next."
   ]
  },
  {
   "cell_type": "code",
   "execution_count": 23,
   "id": "9622d089",
   "metadata": {
    "id": "9622d089"
   },
   "outputs": [],
   "source": [
    "model.compile(optimizer='adam', loss=loss)"
   ]
  },
  {
   "cell_type": "markdown",
   "id": "ea55f1d0",
   "metadata": {
    "id": "ea55f1d0"
   },
   "source": [
    "#### Creating Checkpoints\n",
    "\n",
    "Now we are going to setup and configure our model to save checkpoinst as it trains. This will allow us to load our model from a checkpoint and continue training it."
   ]
  },
  {
   "cell_type": "code",
   "execution_count": 24,
   "id": "8a87770c",
   "metadata": {
    "id": "8a87770c"
   },
   "outputs": [],
   "source": [
    "# Directory where the checkpoints will be saved\n",
    "checkpoint_dir = './training_checkpoints'\n",
    "# Name of the checkpoint files\n",
    "checkpoint_prefix = os.path.join(checkpoint_dir, \"ckpt_{epoch}\")\n",
    "\n",
    "checkpoint_callback=tf.keras.callbacks.ModelCheckpoint(\n",
    "    filepath=checkpoint_prefix,\n",
    "    save_weights_only=True)"
   ]
  },
  {
   "cell_type": "markdown",
   "id": "XcPCiLcY84SV",
   "metadata": {
    "id": "XcPCiLcY84SV"
   },
   "source": [
    "#### Training\n",
    "Finally, we will start training the model. \n"
   ]
  },
  {
   "cell_type": "code",
   "execution_count": 25,
   "id": "7BPdWCMQ89aN",
   "metadata": {
    "colab": {
     "base_uri": "https://localhost:8080/"
    },
    "id": "7BPdWCMQ89aN",
    "outputId": "508b6d89-2afe-4757-a9ab-3cd29374784d"
   },
   "outputs": [
    {
     "name": "stdout",
     "output_type": "stream",
     "text": [
      "Epoch 1/50\n",
      "172/172 [==============================] - 21s 68ms/step - loss: 2.5881\n",
      "Epoch 2/50\n",
      "172/172 [==============================] - 13s 63ms/step - loss: 1.8857\n",
      "Epoch 3/50\n",
      "172/172 [==============================] - 13s 65ms/step - loss: 1.6379\n",
      "Epoch 4/50\n",
      "172/172 [==============================] - 13s 64ms/step - loss: 1.5042\n",
      "Epoch 5/50\n",
      "172/172 [==============================] - 13s 64ms/step - loss: 1.4233\n",
      "Epoch 6/50\n",
      "172/172 [==============================] - 13s 65ms/step - loss: 1.3683\n",
      "Epoch 7/50\n",
      "172/172 [==============================] - 15s 70ms/step - loss: 1.3241\n",
      "Epoch 8/50\n",
      "172/172 [==============================] - 14s 66ms/step - loss: 1.2843\n",
      "Epoch 9/50\n",
      "172/172 [==============================] - 14s 67ms/step - loss: 1.2478\n",
      "Epoch 10/50\n",
      "172/172 [==============================] - 16s 69ms/step - loss: 1.2133\n",
      "Epoch 11/50\n",
      "172/172 [==============================] - 13s 65ms/step - loss: 1.1782\n",
      "Epoch 12/50\n",
      "172/172 [==============================] - 13s 65ms/step - loss: 1.1416\n",
      "Epoch 13/50\n",
      "172/172 [==============================] - 13s 66ms/step - loss: 1.1032\n",
      "Epoch 14/50\n",
      "172/172 [==============================] - 14s 68ms/step - loss: 1.0644\n",
      "Epoch 15/50\n",
      "172/172 [==============================] - 14s 66ms/step - loss: 1.0249\n",
      "Epoch 16/50\n",
      "172/172 [==============================] - 13s 66ms/step - loss: 0.9828\n",
      "Epoch 17/50\n",
      "172/172 [==============================] - 13s 66ms/step - loss: 0.9400\n",
      "Epoch 18/50\n",
      "172/172 [==============================] - 13s 66ms/step - loss: 0.8997\n",
      "Epoch 19/50\n",
      "172/172 [==============================] - 13s 66ms/step - loss: 0.8595\n",
      "Epoch 20/50\n",
      "172/172 [==============================] - 13s 67ms/step - loss: 0.8200\n",
      "Epoch 21/50\n",
      "172/172 [==============================] - 13s 67ms/step - loss: 0.7839\n",
      "Epoch 22/50\n",
      "172/172 [==============================] - 13s 67ms/step - loss: 0.7485\n",
      "Epoch 23/50\n",
      "172/172 [==============================] - 13s 67ms/step - loss: 0.7174\n",
      "Epoch 24/50\n",
      "172/172 [==============================] - 13s 67ms/step - loss: 0.6885\n",
      "Epoch 25/50\n",
      "172/172 [==============================] - 13s 67ms/step - loss: 0.6605\n",
      "Epoch 26/50\n",
      "172/172 [==============================] - 14s 67ms/step - loss: 0.6362\n",
      "Epoch 27/50\n",
      "172/172 [==============================] - 15s 67ms/step - loss: 0.6144\n",
      "Epoch 28/50\n",
      "172/172 [==============================] - 13s 67ms/step - loss: 0.5948\n",
      "Epoch 29/50\n",
      "172/172 [==============================] - 13s 67ms/step - loss: 0.5760\n",
      "Epoch 30/50\n",
      "172/172 [==============================] - 14s 67ms/step - loss: 0.5613\n",
      "Epoch 31/50\n",
      "172/172 [==============================] - 14s 67ms/step - loss: 0.5451\n",
      "Epoch 32/50\n",
      "172/172 [==============================] - 13s 67ms/step - loss: 0.5338\n",
      "Epoch 33/50\n",
      "172/172 [==============================] - 13s 67ms/step - loss: 0.5189\n",
      "Epoch 34/50\n",
      "172/172 [==============================] - 13s 67ms/step - loss: 0.5100\n",
      "Epoch 35/50\n",
      "172/172 [==============================] - 13s 67ms/step - loss: 0.4995\n",
      "Epoch 36/50\n",
      "172/172 [==============================] - 13s 67ms/step - loss: 0.4912\n",
      "Epoch 37/50\n",
      "172/172 [==============================] - 13s 67ms/step - loss: 0.4833\n",
      "Epoch 38/50\n",
      "172/172 [==============================] - 14s 67ms/step - loss: 0.4769\n",
      "Epoch 39/50\n",
      "172/172 [==============================] - 14s 67ms/step - loss: 0.4695\n",
      "Epoch 40/50\n",
      "172/172 [==============================] - 13s 67ms/step - loss: 0.4629\n",
      "Epoch 41/50\n",
      "172/172 [==============================] - 13s 67ms/step - loss: 0.4589\n",
      "Epoch 42/50\n",
      "172/172 [==============================] - 13s 67ms/step - loss: 0.4533\n",
      "Epoch 43/50\n",
      "172/172 [==============================] - 14s 67ms/step - loss: 0.4482\n",
      "Epoch 44/50\n",
      "172/172 [==============================] - 13s 67ms/step - loss: 0.4453\n",
      "Epoch 45/50\n",
      "172/172 [==============================] - 13s 67ms/step - loss: 0.4416\n",
      "Epoch 46/50\n",
      "172/172 [==============================] - 13s 67ms/step - loss: 0.4374\n",
      "Epoch 47/50\n",
      "172/172 [==============================] - 13s 67ms/step - loss: 0.4323\n",
      "Epoch 48/50\n",
      "172/172 [==============================] - 13s 67ms/step - loss: 0.4296\n",
      "Epoch 49/50\n",
      "172/172 [==============================] - 13s 67ms/step - loss: 0.4287\n",
      "Epoch 50/50\n",
      "172/172 [==============================] - 14s 67ms/step - loss: 0.4251\n"
     ]
    }
   ],
   "source": [
    "history = model.fit(data, epochs=50, callbacks=[checkpoint_callback])"
   ]
  },
  {
   "cell_type": "markdown",
   "id": "n9ilavSL-qzh",
   "metadata": {
    "id": "n9ilavSL-qzh"
   },
   "source": [
    "####Loading the Model\n",
    "We'll rebuild the model from a checkpoint using a batch_size of 1 so that we can feed one peice of text to the model and have it make a prediction."
   ]
  },
  {
   "cell_type": "code",
   "execution_count": 37,
   "id": "e-JkxN3N-trM",
   "metadata": {
    "id": "e-JkxN3N-trM"
   },
   "outputs": [],
   "source": [
    "model = build_model(VOCAB_SIZE, EMBEDDING_DIM, RNN_UNITS, batch_size=1)"
   ]
  },
  {
   "cell_type": "markdown",
   "id": "570qvPAy-xp-",
   "metadata": {
    "id": "570qvPAy-xp-"
   },
   "source": [
    "Once the model is finished training, we can find the lastest checkpoint that stores the models weights using the following line."
   ]
  },
  {
   "cell_type": "code",
   "execution_count": 38,
   "id": "7ixSaocU-3Rm",
   "metadata": {
    "id": "7ixSaocU-3Rm"
   },
   "outputs": [],
   "source": [
    "model.load_weights(tf.train.latest_checkpoint(checkpoint_dir))\n",
    "model.build(tf.TensorShape([1, None]))"
   ]
  },
  {
   "cell_type": "markdown",
   "id": "H7qJIx7O_Cas",
   "metadata": {
    "id": "H7qJIx7O_Cas"
   },
   "source": [
    "We can load **any checkpoint** we want by specifying the exact file to load."
   ]
  },
  {
   "cell_type": "markdown",
   "id": "MDWFRbvW_ME-",
   "metadata": {
    "id": "MDWFRbvW_ME-"
   },
   "source": [
    "####Generating Text\n",
    "Now we can use the lovely function provided by tensorflow to generate some text using any starting string we'd like."
   ]
  },
  {
   "cell_type": "code",
   "execution_count": 39,
   "id": "TtKUp8mR_NcF",
   "metadata": {
    "id": "TtKUp8mR_NcF"
   },
   "outputs": [],
   "source": [
    "def generate_text(model, start_string):\n",
    "  # Evaluation step (generating text using the learned model)\n",
    "\n",
    "  # Number of characters to generate\n",
    "  num_generate = 800\n",
    "\n",
    "  # Converting our start string to numbers (vectorizing)\n",
    "  input_eval = [char2idx[s] for s in start_string]\n",
    "  input_eval = tf.expand_dims(input_eval, 0)\n",
    "\n",
    "  # Empty string to store our results\n",
    "  text_generated = []\n",
    "\n",
    "  # Low temperatures results in more predictable text.\n",
    "  # Higher temperatures results in more surprising text.\n",
    "  # Experiment to find the best setting.\n",
    "  temperature = 1.0\n",
    "\n",
    "  # Here batch size == 1\n",
    "  model.reset_states()\n",
    "  for i in range(num_generate):\n",
    "      predictions = model(input_eval)\n",
    "      # remove the batch dimension\n",
    "    \n",
    "      predictions = tf.squeeze(predictions, 0)\n",
    "\n",
    "      # using a categorical distribution to predict the character returned by the model\n",
    "      predictions = predictions / temperature\n",
    "      predicted_id = tf.random.categorical(predictions, num_samples=1)[-1,0].numpy()\n",
    "\n",
    "      # We pass the predicted character as the next input to the model\n",
    "      # along with the previous hidden state\n",
    "      input_eval = tf.expand_dims([predicted_id], 0)\n",
    "\n",
    "      text_generated.append(idx2char[predicted_id])\n",
    "\n",
    "  return (start_string + ''.join(text_generated))"
   ]
  },
  {
   "cell_type": "code",
   "execution_count": 40,
   "id": "SaHFFWG8_WTf",
   "metadata": {
    "colab": {
     "base_uri": "https://localhost:8080/"
    },
    "id": "SaHFFWG8_WTf",
    "outputId": "b091e824-1687-4095-ced7-47549a7e25a1"
   },
   "outputs": [
    {
     "name": "stdout",
     "output_type": "stream",
     "text": [
      "Type a starting string: romeo\n",
      "romeou change his stand,\n",
      "And hide me with the jointure to humbly very welcome; all is sleep.\n",
      "\n",
      "Second Citizen:\n",
      "And so did I.\n",
      "\n",
      "Third, Cominius,\n",
      "To me, the gallay: so tender years\n",
      "with her! Come hither, Master comes withal.\n",
      "\n",
      "HORTENSIO:\n",
      "Kis distressfeal device:\n",
      "I am no bent to cheer them at this man:\n",
      "For I will rail with him, depart alake\n",
      "The shepherd's sake: set me on a Capulet,\n",
      "Here in this city visiting the stays:\n",
      "Your friends are hill, my Lord of Derby.\n",
      "\n",
      "PETRUCHIO:\n",
      "Here comes the custom make me once his wife and daughters;\n",
      "Divinewith her weak,--\n",
      "First, here's all of the house of Lancaster.\n",
      "\n",
      "First Senator:\n",
      "Stay, we know you well enough.\n",
      "\n",
      "CAPULET:\n",
      "Death, that hath after\n",
      "A better gone. 'Zounds, come, to my thoughts: I find you as he did\n",
      "Jure Norfolk.\n",
      "\n",
      "KING LEWIS XENCUTIO:\n",
      "Sweet masters shall I mee\n"
     ]
    }
   ],
   "source": [
    "inp = input(\"Type a starting string: \")\n",
    "print(generate_text(model, inp))"
   ]
  }
 ],
 "metadata": {
  "accelerator": "GPU",
  "colab": {
   "gpuType": "T4",
   "provenance": []
  },
  "gpuClass": "standard",
  "kernelspec": {
   "display_name": "Python 3 (ipykernel)",
   "language": "python",
   "name": "python3"
  },
  "language_info": {
   "codemirror_mode": {
    "name": "ipython",
    "version": 3
   },
   "file_extension": ".py",
   "mimetype": "text/x-python",
   "name": "python",
   "nbconvert_exporter": "python",
   "pygments_lexer": "ipython3",
   "version": "3.10.11"
  }
 },
 "nbformat": 4,
 "nbformat_minor": 5
}
